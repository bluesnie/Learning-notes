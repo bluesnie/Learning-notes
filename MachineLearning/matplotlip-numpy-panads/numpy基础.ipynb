{
 "cells": [
  {
   "cell_type": "markdown",
   "metadata": {},
   "source": [
    "# numpy用于数组计算\n",
    "[中文文档](https://www.numpy.org.cn/user/quickstart.html#%E5%BF%AB%E9%80%9F%E5%85%A5%E9%97%A8%E6%95%99%E7%A8%8B)"
   ]
  },
  {
   "cell_type": "markdown",
   "metadata": {},
   "source": [
    "![](./imgs/numpy_base.png)"
   ]
  },
  {
   "cell_type": "code",
   "execution_count": 24,
   "metadata": {},
   "outputs": [],
   "source": [
    "import numpy as np\n",
    "import random"
   ]
  },
  {
   "cell_type": "markdown",
   "metadata": {},
   "source": [
    "## 创建数组"
   ]
  },
  {
   "cell_type": "code",
   "execution_count": 42,
   "metadata": {},
   "outputs": [
    {
     "name": "stdout",
     "output_type": "stream",
     "text": [
      "[1 2 3]\n",
      "[0 1 2 3 4]\n",
      "[0 1 2 3 4 5 6 7]\n",
      "<class 'numpy.ndarray'> <class 'numpy.ndarray'> <class 'numpy.ndarray'>\n",
      "a3:dtype: int32\n",
      "a4:dtype: float32\n",
      "a5:dtype: bool\n",
      "a1调整dtype前 int32\n",
      "a1调整dtype后 float32\n",
      "\n",
      "\n",
      "[0.90192711 0.11351327 0.76239137 0.32920395 0.48217204 0.61359962\n",
      " 0.14290393 0.02985499 0.99938623 0.82604773]\n",
      "[0.902 0.114 0.762 0.329 0.482 0.614 0.143 0.03  0.999 0.826]\n"
     ]
    }
   ],
   "source": [
    "a1 = np.array([1,2,3])\n",
    "a2 = np.array(range(5))\n",
    "a3 = np.arange(8)\n",
    "a4 = np.array(range(4), dtype='f4')\n",
    "a5 = np.array([1,0,1,0,1,0], dtype=bool)\n",
    "\n",
    "print(a1, a2, a3, sep='\\n')\n",
    "print(type(a1), type(a2), type(a3))\n",
    "print(\"a3:dtype:\", a3.dtype)\n",
    "print(\"a4:dtype:\", a4.dtype)\n",
    "print(\"a5:dtype:\", a5.dtype)\n",
    "print(\"a1调整dtype前\",a1.dtype )\n",
    "# a1.dtype = 'f2'\n",
    "a1 = a1.astype('float32')\n",
    "print(\"a1调整dtype后\",a1.dtype )\n",
    "\n",
    "print(\"\\n\")\n",
    "# 保留小数点\n",
    "a6 = np.array([random.random() for _ in range(10)])\n",
    "print(a6)\n",
    "print(np.round(a6, 3))"
   ]
  },
  {
   "cell_type": "markdown",
   "metadata": {},
   "source": [
    "### 数据类型\n",
    "\n",
    "![](./imgs/numpy-dtype.png)"
   ]
  },
  {
   "cell_type": "markdown",
   "metadata": {},
   "source": [
    "## 形状"
   ]
  },
  {
   "cell_type": "code",
   "execution_count": 43,
   "metadata": {},
   "outputs": [
    {
     "name": "stdout",
     "output_type": "stream",
     "text": [
      "[0 1 2 3 4 5 6 7]\n",
      "[[1 2 3]\n",
      " [4 5 6]]\n",
      "[[[1 2 3]\n",
      "  [4 5 6]]\n",
      "\n",
      " [[7 8 9]\n",
      "  [4 5 6]]]\n",
      "(8,) (2, 3) (2, 2, 3)\n"
     ]
    }
   ],
   "source": [
    "a7 = np.array([[1,2,3],[4,5,6]])\n",
    "a8 = np.array([[[1,2,3],[4,5,6]],[[7,8,9],[4,5,6]] ])\n",
    "print(a3, a7, a8, sep='\\n')\n",
    "print(a3.shape, a7.shape, a8.shape)"
   ]
  },
  {
   "cell_type": "code",
   "execution_count": 64,
   "metadata": {},
   "outputs": [
    {
     "name": "stdout",
     "output_type": "stream",
     "text": [
      "[[ 0  1  2  3]\n",
      " [ 4  5  6  7]\n",
      " [ 8  9 10 11]]\n",
      "\n",
      "\n",
      "[[ 0  1  2  3  4  5]\n",
      " [ 6  7  8  9 10 11]]\n",
      "\n",
      "\n",
      "[[[ 0  1  2]\n",
      "  [ 3  4  5]]\n",
      "\n",
      " [[ 6  7  8]\n",
      "  [ 9 10 11]]]\n",
      "\n",
      "\n",
      "[[[ 0  1]\n",
      "  [ 2  3]\n",
      "  [ 4  5]]\n",
      "\n",
      " [[ 6  7]\n",
      "  [ 8  9]\n",
      "  [10 11]]]\n"
     ]
    }
   ],
   "source": [
    "a9 = np.arange(12)\n",
    "# 转换为2维，\n",
    "print(a9.reshape((3,4)), a9.reshape((2,6)), a9.reshape((2,2,3)), a9.reshape((2,3,2)), sep='\\n\\n\\n')"
   ]
  },
  {
   "cell_type": "code",
   "execution_count": 57,
   "metadata": {},
   "outputs": [
    {
     "name": "stdout",
     "output_type": "stream",
     "text": [
      "[ 0  1  2  3  4  5  6  7  8  9 10 11]\n",
      "\n",
      "\n",
      "[[ 0  1  2  3  4  5  6  7  8  9 10 11]]\n",
      "\n",
      "\n",
      "[[ 0]\n",
      " [ 1]\n",
      " [ 2]\n",
      " [ 3]\n",
      " [ 4]\n",
      " [ 5]\n",
      " [ 6]\n",
      " [ 7]\n",
      " [ 8]\n",
      " [ 9]\n",
      " [10]\n",
      " [11]]\n"
     ]
    }
   ],
   "source": [
    "print(a9.reshape((12,)),a9.reshape((1,12)), a9.reshape((12,1)), sep='\\n\\n\\n')"
   ]
  },
  {
   "cell_type": "code",
   "execution_count": 63,
   "metadata": {},
   "outputs": [
    {
     "name": "stdout",
     "output_type": "stream",
     "text": [
      "[[[ 0  1  2]\n",
      "  [ 3  4  5]]\n",
      "\n",
      " [[ 6  7  8]\n",
      "  [ 9 10 11]]]\n",
      "\n",
      "\n",
      "[ 0  1  2  3  4  5  6  7  8  9 10 11]\n"
     ]
    }
   ],
   "source": [
    "a10 = np.arange(12).reshape((2,2,3))\n",
    "print(a10, a10.flatten(), sep='\\n\\n\\n')"
   ]
  },
  {
   "cell_type": "markdown",
   "metadata": {},
   "source": [
    "## 计算"
   ]
  },
  {
   "cell_type": "code",
   "execution_count": 73,
   "metadata": {},
   "outputs": [],
   "source": [
    "a11 = np.arange(12).reshape((3,-1))"
   ]
  },
  {
   "cell_type": "code",
   "execution_count": 77,
   "metadata": {},
   "outputs": [
    {
     "name": "stdout",
     "output_type": "stream",
     "text": [
      "[[ 0  1  2  3]\n",
      " [ 4  5  6  7]\n",
      " [ 8  9 10 11]]\n",
      "\n",
      "\n",
      "[[0.  0.5 1.  1.5]\n",
      " [2.  2.5 3.  3.5]\n",
      " [4.  4.5 5.  5.5]]\n",
      "\n",
      "\n",
      "[[nan inf inf inf]\n",
      " [inf inf inf inf]\n",
      " [inf inf inf inf]]\n"
     ]
    },
    {
     "name": "stderr",
     "output_type": "stream",
     "text": [
      "C:\\Users\\Admin\\Anaconda3\\lib\\site-packages\\ipykernel_launcher.py:4: RuntimeWarning: divide by zero encountered in true_divide\n",
      "  after removing the cwd from sys.path.\n",
      "C:\\Users\\Admin\\Anaconda3\\lib\\site-packages\\ipykernel_launcher.py:4: RuntimeWarning: invalid value encountered in true_divide\n",
      "  after removing the cwd from sys.path.\n"
     ]
    }
   ],
   "source": [
    "# nan：没有的意思\n",
    "# infinity：无限，无穷的意思，所以这里是无限大的意思\n",
    "\n",
    "print(a11, a11/2, a11/0, sep='\\n\\n\\n')"
   ]
  },
  {
   "cell_type": "markdown",
   "metadata": {},
   "source": [
    "#### 维度相同"
   ]
  },
  {
   "cell_type": "code",
   "execution_count": 79,
   "metadata": {},
   "outputs": [
    {
     "name": "stdout",
     "output_type": "stream",
     "text": [
      "[[ 1  2  3  4]\n",
      " [ 5  6  7  8]\n",
      " [ 9 10 11 12]]\n",
      "\n",
      "\n",
      "[[11 12 13 14]\n",
      " [15 16 17 18]\n",
      " [19 20 21 22]]\n"
     ]
    }
   ],
   "source": [
    "a12 = np.arange(1,13).reshape((3,4))\n",
    "a13 = np.arange(11, 23).reshape((3,4))\n",
    "print(a12, a13, sep='\\n'*3)"
   ]
  },
  {
   "cell_type": "code",
   "execution_count": 86,
   "metadata": {},
   "outputs": [
    {
     "name": "stdout",
     "output_type": "stream",
     "text": [
      "加： [[12 14 16 18]\n",
      " [20 22 24 26]\n",
      " [28 30 32 34]]\n",
      "\n",
      "\n",
      "减： [[-10 -10 -10 -10]\n",
      " [-10 -10 -10 -10]\n",
      " [-10 -10 -10 -10]]\n",
      "\n",
      "\n",
      "乘： [[ 11  24  39  56]\n",
      " [ 75  96 119 144]\n",
      " [171 200 231 264]]\n",
      "\n",
      "\n",
      "除： [[0.09090909 0.16666667 0.23076923 0.28571429]\n",
      " [0.33333333 0.375      0.41176471 0.44444444]\n",
      " [0.47368421 0.5        0.52380952 0.54545455]]\n",
      "\n",
      "\n"
     ]
    }
   ],
   "source": [
    "print(\"加：\", a12 + a13, end=\"\\n\"*3)\n",
    "print(\"减：\", a12 - a13, end=\"\\n\"*3)\n",
    "print(\"乘：\", a12 * a13, end=\"\\n\"*3)\n",
    "print(\"除：\", a12 / a13, end=\"\\n\"*3)"
   ]
  },
  {
   "cell_type": "markdown",
   "metadata": {},
   "source": [
    "#### 维度不相同\n",
    "- 需要有一个维度的相同\n",
    "- 广播原则\n",
    "    - 如果两个数组的后缘维度（即从末尾开始算起的维度）的轴长度相符或其中一方的长度为1，则认为它们是广播兼容的，广播会在缺失和（或）长度为1的维度上进行"
   ]
  },
  {
   "cell_type": "code",
   "execution_count": 94,
   "metadata": {},
   "outputs": [],
   "source": [
    "a14 = np.arange(6)\n",
    "a15 = np.arange(24).reshape((4,6))\n",
    "a16 = np.arange(4).reshape((4,1))\n",
    "a17 = np.arange(10)"
   ]
  },
  {
   "cell_type": "code",
   "execution_count": 95,
   "metadata": {},
   "outputs": [
    {
     "name": "stdout",
     "output_type": "stream",
     "text": [
      "[0 1 2 3 4 5]\n",
      "\n",
      "\n",
      "[[ 0  1  2  3  4  5]\n",
      " [ 6  7  8  9 10 11]\n",
      " [12 13 14 15 16 17]\n",
      " [18 19 20 21 22 23]]\n",
      "\n",
      "\n",
      "[[0]\n",
      " [1]\n",
      " [2]\n",
      " [3]]\n",
      "\n",
      "\n",
      "[0 1 2 3 4 5 6 7 8 9]\n"
     ]
    }
   ],
   "source": [
    "print(a14, a15, a16, a17, sep=\"\\n\"*3)"
   ]
  },
  {
   "cell_type": "code",
   "execution_count": 99,
   "metadata": {},
   "outputs": [
    {
     "name": "stdout",
     "output_type": "stream",
     "text": [
      "[[ 0  0  0  0  0  0]\n",
      " [ 6  6  6  6  6  6]\n",
      " [12 12 12 12 12 12]\n",
      " [18 18 18 18 18 18]]\n",
      "\n",
      "\n",
      "[[ 0  1  2  3  4  5]\n",
      " [ 5  6  7  8  9 10]\n",
      " [10 11 12 13 14 15]\n",
      " [15 16 17 18 19 20]]\n"
     ]
    }
   ],
   "source": [
    "# 维度不一样时会计算对应位置\n",
    "print(a15-a14, a15-a16, sep='\\n'*3)"
   ]
  },
  {
   "cell_type": "code",
   "execution_count": 101,
   "metadata": {},
   "outputs": [
    {
     "ename": "ValueError",
     "evalue": "operands could not be broadcast together with shapes (4,6) (10,) ",
     "output_type": "error",
     "traceback": [
      "\u001b[1;31m---------------------------------------------------------------------------\u001b[0m",
      "\u001b[1;31mValueError\u001b[0m                                Traceback (most recent call last)",
      "\u001b[1;32m<ipython-input-101-3ad53f5deac4>\u001b[0m in \u001b[0;36m<module>\u001b[1;34m\u001b[0m\n\u001b[0;32m      1\u001b[0m \u001b[1;31m# 维度不一样时会计算对应位置不一样也不一定可以计算\u001b[0m\u001b[1;33m\u001b[0m\u001b[1;33m\u001b[0m\u001b[1;33m\u001b[0m\u001b[0m\n\u001b[1;32m----> 2\u001b[1;33m \u001b[0mprint\u001b[0m\u001b[1;33m(\u001b[0m\u001b[0ma15\u001b[0m\u001b[1;33m-\u001b[0m\u001b[0ma14\u001b[0m\u001b[1;33m,\u001b[0m \u001b[0ma15\u001b[0m\u001b[1;33m-\u001b[0m\u001b[0ma16\u001b[0m\u001b[1;33m,\u001b[0m \u001b[0ma15\u001b[0m\u001b[1;33m-\u001b[0m\u001b[0ma17\u001b[0m\u001b[1;33m,\u001b[0m \u001b[0msep\u001b[0m\u001b[1;33m=\u001b[0m\u001b[1;34m'\\n'\u001b[0m\u001b[1;33m*\u001b[0m\u001b[1;36m3\u001b[0m\u001b[1;33m)\u001b[0m\u001b[1;33m\u001b[0m\u001b[1;33m\u001b[0m\u001b[0m\n\u001b[0m",
      "\u001b[1;31mValueError\u001b[0m: operands could not be broadcast together with shapes (4,6) (10,) "
     ]
    }
   ],
   "source": [
    "# 维度不一样时会计算对应位置不一样也不一定可以计算\n",
    "print(a15-a14, a15-a16, a15-a17, sep='\\n'*3)"
   ]
  },
  {
   "cell_type": "markdown",
   "metadata": {},
   "source": [
    "### 轴\n",
    "\n",
    "- 二维\n",
    "    - axis=0：行\n",
    "    - axis=1：列\n",
    "![](./imgs/2-axis.png)\n",
    "- 三维\n",
    "    - axis=0：行\n",
    "    - aixs=1：列（每一行的每一列）\n",
    "    - aixs=2：块（每一行的每一列的每个元素）\n",
    "![](./imgs/3-axis.png)"
   ]
  },
  {
   "cell_type": "code",
   "execution_count": 109,
   "metadata": {},
   "outputs": [
    {
     "name": "stdout",
     "output_type": "stream",
     "text": [
      "[[[ 0  1  2]\n",
      "  [ 3  4  5]]\n",
      "\n",
      " [[ 6  7  8]\n",
      "  [ 9 10 11]]]\n",
      "\n",
      "\n",
      "[[ 6  8 10]\n",
      " [12 14 16]]\n",
      "\n",
      "\n",
      "[[ 3  5  7]\n",
      " [15 17 19]]\n",
      "\n",
      "\n",
      "[[ 3 12]\n",
      " [21 30]]\n"
     ]
    }
   ],
   "source": [
    "print(a10, np.sum(a10, axis=0), np.sum(a10, axis=1), np.sum(a10, axis=2), sep='\\n'*3)"
   ]
  },
  {
   "cell_type": "markdown",
   "metadata": {},
   "source": [
    "#### 转置"
   ]
  },
  {
   "cell_type": "code",
   "execution_count": 117,
   "metadata": {},
   "outputs": [
    {
     "name": "stdout",
     "output_type": "stream",
     "text": [
      "[[ 0  1  2  3  4  5]\n",
      " [ 6  7  8  9 10 11]\n",
      " [12 13 14 15 16 17]\n",
      " [18 19 20 21 22 23]]\n",
      "\n",
      "\n",
      "[[ 0  6 12 18]\n",
      " [ 1  7 13 19]\n",
      " [ 2  8 14 20]\n",
      " [ 3  9 15 21]\n",
      " [ 4 10 16 22]\n",
      " [ 5 11 17 23]]\n",
      "\n",
      "\n",
      "[[ 0  6 12 18]\n",
      " [ 1  7 13 19]\n",
      " [ 2  8 14 20]\n",
      " [ 3  9 15 21]\n",
      " [ 4 10 16 22]\n",
      " [ 5 11 17 23]]\n",
      "\n",
      "\n",
      "[[ 0  6 12 18]\n",
      " [ 1  7 13 19]\n",
      " [ 2  8 14 20]\n",
      " [ 3  9 15 21]\n",
      " [ 4 10 16 22]\n",
      " [ 5 11 17 23]]\n"
     ]
    }
   ],
   "source": [
    "a18 = np.arange(24).reshape((4,6))\n",
    "print(a18, a18.transpose(), a18.T, a18.swapaxes(1,0), sep='\\n'*3)"
   ]
  },
  {
   "cell_type": "markdown",
   "metadata": {},
   "source": [
    "### 索引与切片\n",
    " [中文文档](https://www.numpy.org.cn/user/quickstart.html#%E7%B4%A2%E5%BC%95%E3%80%81%E5%88%87%E7%89%87%E5%92%8C%E8%BF%AD%E4%BB%A3)"
   ]
  },
  {
   "cell_type": "code",
   "execution_count": 157,
   "metadata": {},
   "outputs": [
    {
     "name": "stdout",
     "output_type": "stream",
     "text": [
      "[0 1 2 3 4]\n",
      "\n",
      "0\n",
      "\n",
      "[2 3 4]\n",
      "\n",
      "[4 3 2 1 0]\n"
     ]
    }
   ],
   "source": [
    "# 一维（前闭后开）\n",
    "print(a2, a2[0], a2[2:5],a2[::-1], sep='\\n'*2)"
   ]
  },
  {
   "cell_type": "markdown",
   "metadata": {},
   "source": [
    "#### 三个点（ ... ）表示产生完整索引元组所需的冒号。例如，如果 x 是rank为5的数组（即，它具有5个轴），则：\n",
    "\n",
    "- `x[1,2,...]` 相当于 `x[1,2,:,:,:]`\n",
    "- `x[...,3]` 等效于 `x[:,:,:,:,3]`\n",
    "- `x[4,...,5,:]` 等效于 `x[4,:,:,5,:]`"
   ]
  },
  {
   "cell_type": "code",
   "execution_count": 169,
   "metadata": {},
   "outputs": [
    {
     "name": "stdout",
     "output_type": "stream",
     "text": [
      "二维\n",
      "\n",
      "[[ 1  2  3  4]\n",
      " [ 5  6  7  8]\n",
      " [ 9 10 11 12]]\n",
      "\n",
      "[[1 2]\n",
      " [5 6]]\n",
      "\n",
      "[[ 2  3]\n",
      " [ 6  7]\n",
      " [10 11]]\n",
      "\n",
      "[2 7 9]\n",
      "三维\n",
      "\n",
      "\n",
      "[[[ 0  1  2]\n",
      "  [ 3  4  5]]\n",
      "\n",
      " [[ 6  7  8]\n",
      "  [ 9 10 11]]]\n",
      "\n",
      "\n",
      "[[[ 0  1]\n",
      "  [ 3  4]]\n",
      "\n",
      " [[ 6  7]\n",
      "  [ 9 10]]]\n",
      "\n",
      "\n",
      "[[ 6  7  8]\n",
      " [ 9 10 11]]\n"
     ]
    }
   ],
   "source": [
    "# 多维\n",
    "print(\"二维\",a12,a12[:2,:2], a12[:, 1:3],a12[[0, 1,2],[1,2,0]], sep='\\n'*2)\n",
    "print(\"三维\",a10, a10[:,:2,:2], a10[1,...],sep='\\n'*3)"
   ]
  },
  {
   "cell_type": "code",
   "execution_count": 184,
   "metadata": {},
   "outputs": [
    {
     "name": "stdout",
     "output_type": "stream",
     "text": [
      "[[ 1  2  3  4]\n",
      " [ 5  6  7  8]\n",
      " [ 9 10 11 12]]\n",
      "\n",
      "(array([0, 0, 0, 0], dtype=int64), array([0, 1, 2, 3], dtype=int64))\n",
      "\n",
      "[1 2 3 4]\n"
     ]
    }
   ],
   "source": [
    "index = np.where(a12 < 5)\n",
    "print(a12,index, a12[index] ,sep='\\n'*2)"
   ]
  },
  {
   "cell_type": "code",
   "execution_count": 192,
   "metadata": {},
   "outputs": [
    {
     "name": "stdout",
     "output_type": "stream",
     "text": [
      "[[1 1 1 1]\n",
      " [0 0 0 0]\n",
      " [0 0 0 0]]\n"
     ]
    }
   ],
   "source": [
    "# 小于5的赋值为1，,大于等于5的赋值为0\n",
    "# 三目运算符\n",
    "print(np.where(a12 < 5, 1, 0))"
   ]
  },
  {
   "cell_type": "code",
   "execution_count": 182,
   "metadata": {},
   "outputs": [
    {
     "data": {
      "text/plain": [
       "nan"
      ]
     },
     "execution_count": 182,
     "metadata": {},
     "output_type": "execute_result"
    }
   ],
   "source": [
    "np.nan"
   ]
  },
  {
   "cell_type": "code",
   "execution_count": null,
   "metadata": {},
   "outputs": [],
   "source": []
  },
  {
   "cell_type": "code",
   "execution_count": null,
   "metadata": {},
   "outputs": [],
   "source": []
  },
  {
   "cell_type": "code",
   "execution_count": null,
   "metadata": {},
   "outputs": [],
   "source": []
  },
  {
   "cell_type": "code",
   "execution_count": null,
   "metadata": {},
   "outputs": [],
   "source": []
  },
  {
   "cell_type": "code",
   "execution_count": null,
   "metadata": {},
   "outputs": [],
   "source": []
  }
 ],
 "metadata": {
  "kernelspec": {
   "display_name": "Python 3",
   "language": "python",
   "name": "python3"
  },
  "language_info": {
   "codemirror_mode": {
    "name": "ipython",
    "version": 3
   },
   "file_extension": ".py",
   "mimetype": "text/x-python",
   "name": "python",
   "nbconvert_exporter": "python",
   "pygments_lexer": "ipython3",
   "version": "3.7.4"
  }
 },
 "nbformat": 4,
 "nbformat_minor": 2
}
