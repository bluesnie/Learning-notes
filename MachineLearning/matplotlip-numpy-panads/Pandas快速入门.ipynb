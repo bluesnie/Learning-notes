{
 "cells": [
  {
   "cell_type": "markdown",
   "metadata": {},
   "source": [
    "# Pandas \n",
    "[中文文档](https://www.pypandas.cn/)\n",
    "[英文文档](https://pandas.pydata.org/)"
   ]
  },
  {
   "cell_type": "markdown",
   "metadata": {},
   "source": [
    "## Pandas概览\n",
    "\n",
    "Pandas 是 Python 的核心数据分析支持库，提供了快速、灵活、明确的数据结构，旨在简单、直观地处理关系型、标记型数据。Pandas 的目标是成为 Python 数据分析实践与实战的必备高级工具，其长远目标是成为最强大、最灵活、可以支持任何语言的开源数据分析工具。经过多年不懈的努力，Pandas 离这个目标已经越来越近了。\n",
    "\n",
    "Pandas 适用于处理以下类型的数据：\n",
    "\n",
    "- 与 SQL 或 Excel 表类似的，含异构列的表格数据;\n",
    "- 有序和无序（非固定频率）的时间序列数据;\n",
    "- 带行列标签的矩阵数据，包括同构或异构型数据;\n",
    "- 任意其它形式的观测、统计数据集, 数据转入 Pandas 数据结构时不必事先标记。\n",
    "\n",
    "Pandas 的主要数据结构是 [Series](https://pandas.pydata.org/pandas-docs/stable/reference/api/pandas.Series.html#pandas.Series)（一维数据）与 [DataFrame](https://pandas.pydata.org/pandas-docs/stable/reference/api/pandas.DataFrame.html#pandas.DataFrame)（二维数据），这两种数据结构足以处理金融、统计、- 社会科学、工程等领域里的大多数典型用例。对于 R 用户，DataFrame 提供了比 R 语言 data.frame 更丰富的功能。Pandas 基于 [NumPy](https://www.numpy.org/) 开发，可以与其它第三方科学计算支持库完美集成。\n",
    "\n",
    "Pandas 就像一把万能瑞士军刀，下面仅列出了它的部分优势 ：\n",
    "\n",
    "- 处理浮点与非浮点数据里的**缺失数据**，表示为 NaN；\n",
    "- 大小可变：**插入或删除** DataFrame 等多维对象的列；\n",
    "- 自动、显式**数据对齐**：显式地将对象与一组标签对齐，也可以忽略标签，在 Series、DataFrame 计算时自动与数据对齐；\n",
    "- 强大、灵活的**分组**（group by）功能：**拆分-应用-组合**数据集，**聚合、转换**数据；\n",
    "- 把 Python 和 NumPy 数据结构里不规则、不同索引的数据轻松地转换为 DataFrame 对象；\n",
    "- 基于智能标签，对大型数据集进行**切片、花式索引、子集分解**等操作；\n",
    "- 直观地**合并（merge）、连接（join）**数据集；\n",
    "- 灵活地**重塑（reshape）、透视（pivot）**数据集；\n",
    "- **轴**支持结构化标签：一个刻度支持多个标签；\n",
    "- 成熟的 IO 工具：读取**文本文件**（CSV 等支持分隔符的文件）、Excel 文件、数据库等来源的数据，利用超快的 HDF5 格式保存 / 加载数据；\n",
    "- **时间序列**：支持日期范围生成、频率转换、移动窗口统计、移动窗口线性回归、日期位移等时间序列功能。\n",
    "\n",
    "这些功能主要是为了解决其它编程语言、科研环境的痛点。处理数据一般分为几个阶段：数据整理与清洗、数据分析与建模、数据可视化与制表，Pandas 是处理数据的理想工具。\n",
    "\n",
    "其它说明：\n",
    "\n",
    "- Pandas 速度很快。Pandas 的很多底层算法都用 Cython 优化过。然而，为了保持通用性，必然要牺牲一些性能，如果专注某一功能，完全可以开发出比 Pandas 更快的专用工具。\n",
    "- Pandas 是 statsmodels 的依赖项，因此，Pandas 也是 Python 中统计计算生态系统的重要组成部分。\n",
    "- Pandas 已广泛应用于金融领域。\n",
    "\n",
    "## 数据结构\n",
    "\n",
    "| 维数  | 名称  |     描述       |\n",
    "|---------------------|------------------|------------------|\n",
    "|  1   | Series|  带标签的一维同构数组|\n",
    "|  2   | DataFrame| 带标签的，大小可变的，二维异构表格|\n",
    "\n",
    "### 为什么有多个数据结构？\n",
    "\n",
    "Pandas 数据结构就像是低维数据的容器。比如，DataFrame 是 Series 的容器，Series 则是标量的容器。使用这种方式，可以在容器中以字典的形式插入或删除对象。\n",
    "\n",
    "此外，通用 API 函数的默认操作要顾及时间序列与截面数据集的方向。多维数组存储二维或三维数据时，编写函数要注意数据集的方向，这对用户来说是一种负担；如果不考虑 C 或 Fortran 中连续性对性能的影响，一般情况下，不同的轴在程序里其实没有什么区别。Pandas 里，轴的概念主要是为了给数据赋予更直观的语义，即用“更恰当”的方式表示数据集的方向。这样做可以让用户编写数据转换函数时，少费点脑子。\n",
    "\n",
    "处理 DataFrame 等表格数据时，index（行）或 columns（列）比 axis 0 和 axis 1 更直观。用这种方式迭代 DataFrame 的列，代码更易读易懂：\n",
    "```python\n",
    "for col in df.columns:\n",
    "    series = df[col]\n",
    "    # do something with series\n",
    "```\n",
    "\n",
    "## 大小可变与数据复制\n",
    "\n",
    "Pandas 所有数据结构的值都是可变的，但数据结构的大小并非都是可变的，比如，Series 的长度不可改变，但 DataFrame 里就可以插入列。\n",
    "\n",
    "Pandas 里，绝大多数方法都不改变原始的输入数据，而是复制数据，生成新的对象。 一般来说，原始输入数据**不变**更稳妥。"
   ]
  },
  {
   "cell_type": "markdown",
   "metadata": {},
   "source": [
    "## 十分钟入门Pandas\n",
    "\n",
    "本节是帮助 Pandas 新手快速上手的简介。[烹饪指南](https://www.pypandas.cn/docs/user_guide/cookbook.html)里介绍了更多实用案例。\n",
    "\n",
    "本节以下列方式导入 Pandas 与 NumPy："
   ]
  },
  {
   "cell_type": "code",
   "execution_count": null,
   "metadata": {},
   "outputs": [],
   "source": [
    "import numpy as np\n",
    "import pandas as pd"
   ]
  },
  {
   "cell_type": "markdown",
   "metadata": {},
   "source": [
    "### 生成对象\n",
    "\n",
    "详见[数据结构](https://www.pypandas.cn/docs/getting_started/dsintro.html#dsintro)简介文档。\n",
    "\n",
    "用值列表生成 [Series](https://pandas.pydata.org/pandas-docs/stable/reference/api/pandas.Series.html#pandas.Series) 时，Pandas 默认自动生成整数索引："
   ]
  },
  {
   "cell_type": "code",
   "execution_count": 4,
   "metadata": {
    "scrolled": true
   },
   "outputs": [
    {
     "data": {
      "text/plain": [
       "0    1.0\n",
       "1    2.0\n",
       "2    3.0\n",
       "3    4.0\n",
       "4    5.0\n",
       "5    NaN\n",
       "6    6.0\n",
       "7    8.0\n",
       "dtype: float64"
      ]
     },
     "execution_count": 4,
     "metadata": {},
     "output_type": "execute_result"
    }
   ],
   "source": [
    "s = pd.Series([1,2,3,4,5,np.nan, 6,8])\n",
    "s"
   ]
  },
  {
   "cell_type": "markdown",
   "metadata": {},
   "source": [
    "用含日期时间索引与标签的Numpy数组生成[DataFrame](https://pandas.pydata.org/pandas-docs/stable/reference/api/pandas.DataFrame.html#pandas.DataFrame)"
   ]
  },
  {
   "cell_type": "code",
   "execution_count": 20,
   "metadata": {},
   "outputs": [
    {
     "data": {
      "text/plain": [
       "DatetimeIndex(['2015-01-01', '2015-01-02', '2015-01-03', '2015-01-04',\n",
       "               '2015-01-05', '2015-01-06'],\n",
       "              dtype='datetime64[ns]', freq='D')"
      ]
     },
     "execution_count": 20,
     "metadata": {},
     "output_type": "execute_result"
    }
   ],
   "source": [
    "df1 = pd.date_range(start='20150101', periods=6)\n",
    "df1"
   ]
  },
  {
   "cell_type": "code",
   "execution_count": 22,
   "metadata": {},
   "outputs": [
    {
     "data": {
      "text/html": [
       "<div>\n",
       "<style scoped>\n",
       "    .dataframe tbody tr th:only-of-type {\n",
       "        vertical-align: middle;\n",
       "    }\n",
       "\n",
       "    .dataframe tbody tr th {\n",
       "        vertical-align: top;\n",
       "    }\n",
       "\n",
       "    .dataframe thead th {\n",
       "        text-align: right;\n",
       "    }\n",
       "</style>\n",
       "<table border=\"1\" class=\"dataframe\">\n",
       "  <thead>\n",
       "    <tr style=\"text-align: right;\">\n",
       "      <th></th>\n",
       "      <th>A</th>\n",
       "      <th>B</th>\n",
       "      <th>C</th>\n",
       "      <th>D</th>\n",
       "    </tr>\n",
       "  </thead>\n",
       "  <tbody>\n",
       "    <tr>\n",
       "      <td>2015-01-01</td>\n",
       "      <td>0.425050</td>\n",
       "      <td>0.174167</td>\n",
       "      <td>-0.086784</td>\n",
       "      <td>0.437715</td>\n",
       "    </tr>\n",
       "    <tr>\n",
       "      <td>2015-01-02</td>\n",
       "      <td>0.000845</td>\n",
       "      <td>-0.895524</td>\n",
       "      <td>-0.175462</td>\n",
       "      <td>-0.145002</td>\n",
       "    </tr>\n",
       "    <tr>\n",
       "      <td>2015-01-03</td>\n",
       "      <td>0.797813</td>\n",
       "      <td>-1.397892</td>\n",
       "      <td>1.773624</td>\n",
       "      <td>-0.569873</td>\n",
       "    </tr>\n",
       "    <tr>\n",
       "      <td>2015-01-04</td>\n",
       "      <td>-0.832057</td>\n",
       "      <td>-0.107309</td>\n",
       "      <td>0.539165</td>\n",
       "      <td>0.166025</td>\n",
       "    </tr>\n",
       "    <tr>\n",
       "      <td>2015-01-05</td>\n",
       "      <td>0.146565</td>\n",
       "      <td>-0.920169</td>\n",
       "      <td>-1.132986</td>\n",
       "      <td>-0.084363</td>\n",
       "    </tr>\n",
       "    <tr>\n",
       "      <td>2015-01-06</td>\n",
       "      <td>0.057463</td>\n",
       "      <td>-0.211505</td>\n",
       "      <td>0.399993</td>\n",
       "      <td>-0.970626</td>\n",
       "    </tr>\n",
       "  </tbody>\n",
       "</table>\n",
       "</div>"
      ],
      "text/plain": [
       "                   A         B         C         D\n",
       "2015-01-01  0.425050  0.174167 -0.086784  0.437715\n",
       "2015-01-02  0.000845 -0.895524 -0.175462 -0.145002\n",
       "2015-01-03  0.797813 -1.397892  1.773624 -0.569873\n",
       "2015-01-04 -0.832057 -0.107309  0.539165  0.166025\n",
       "2015-01-05  0.146565 -0.920169 -1.132986 -0.084363\n",
       "2015-01-06  0.057463 -0.211505  0.399993 -0.970626"
      ]
     },
     "execution_count": 22,
     "metadata": {},
     "output_type": "execute_result"
    }
   ],
   "source": [
    "df2 = pd.DataFrame(np.random.randn(6,4), index=df1, columns=list('ABCD'))\n",
    "df2"
   ]
  },
  {
   "cell_type": "markdown",
   "metadata": {},
   "source": [
    "用Series字典对象生成DataFrame"
   ]
  },
  {
   "cell_type": "code",
   "execution_count": 25,
   "metadata": {},
   "outputs": [
    {
     "data": {
      "text/html": [
       "<div>\n",
       "<style scoped>\n",
       "    .dataframe tbody tr th:only-of-type {\n",
       "        vertical-align: middle;\n",
       "    }\n",
       "\n",
       "    .dataframe tbody tr th {\n",
       "        vertical-align: top;\n",
       "    }\n",
       "\n",
       "    .dataframe thead th {\n",
       "        text-align: right;\n",
       "    }\n",
       "</style>\n",
       "<table border=\"1\" class=\"dataframe\">\n",
       "  <thead>\n",
       "    <tr style=\"text-align: right;\">\n",
       "      <th></th>\n",
       "      <th>A</th>\n",
       "      <th>B</th>\n",
       "      <th>C</th>\n",
       "      <th>D</th>\n",
       "      <th>E</th>\n",
       "      <th>F</th>\n",
       "    </tr>\n",
       "  </thead>\n",
       "  <tbody>\n",
       "    <tr>\n",
       "      <td>0</td>\n",
       "      <td>1.0</td>\n",
       "      <td>2015-01-01</td>\n",
       "      <td>1.0</td>\n",
       "      <td>3</td>\n",
       "      <td>test</td>\n",
       "      <td>foo</td>\n",
       "    </tr>\n",
       "    <tr>\n",
       "      <td>1</td>\n",
       "      <td>1.0</td>\n",
       "      <td>2015-01-01</td>\n",
       "      <td>1.0</td>\n",
       "      <td>3</td>\n",
       "      <td>train</td>\n",
       "      <td>foo</td>\n",
       "    </tr>\n",
       "    <tr>\n",
       "      <td>2</td>\n",
       "      <td>1.0</td>\n",
       "      <td>2015-01-01</td>\n",
       "      <td>1.0</td>\n",
       "      <td>3</td>\n",
       "      <td>test</td>\n",
       "      <td>foo</td>\n",
       "    </tr>\n",
       "    <tr>\n",
       "      <td>3</td>\n",
       "      <td>1.0</td>\n",
       "      <td>2015-01-01</td>\n",
       "      <td>1.0</td>\n",
       "      <td>3</td>\n",
       "      <td>train</td>\n",
       "      <td>foo</td>\n",
       "    </tr>\n",
       "  </tbody>\n",
       "</table>\n",
       "</div>"
      ],
      "text/plain": [
       "     A          B    C  D      E    F\n",
       "0  1.0 2015-01-01  1.0  3   test  foo\n",
       "1  1.0 2015-01-01  1.0  3  train  foo\n",
       "2  1.0 2015-01-01  1.0  3   test  foo\n",
       "3  1.0 2015-01-01  1.0  3  train  foo"
      ]
     },
     "execution_count": 25,
     "metadata": {},
     "output_type": "execute_result"
    }
   ],
   "source": [
    "df3 = pd.DataFrame({\n",
    "    'A': 1.,\n",
    "    'B': pd.Timestamp('20150101'),\n",
    "    'C': pd.Series(1, index=list(range(4)), dtype='float32'),\n",
    "    'D': np.array([3]* 4, dtype='int32'),\n",
    "    'E': pd.Categorical(['test', 'train','test', 'train']),\n",
    "    'F':'foo'\n",
    "})\n",
    "df3"
   ]
  },
  {
   "cell_type": "markdown",
   "metadata": {},
   "source": [
    "DataFrame 的列有不同[数据类型](https://pandas.pydata.org/pandas-docs/stable/getting_started/basics.html#basics-dtypes)。"
   ]
  },
  {
   "cell_type": "code",
   "execution_count": 26,
   "metadata": {},
   "outputs": [
    {
     "data": {
      "text/plain": [
       "A           float64\n",
       "B    datetime64[ns]\n",
       "C           float32\n",
       "D             int32\n",
       "E          category\n",
       "F            object\n",
       "dtype: object"
      ]
     },
     "execution_count": 26,
     "metadata": {},
     "output_type": "execute_result"
    }
   ],
   "source": [
    "df3.dtypes"
   ]
  },
  {
   "cell_type": "markdown",
   "metadata": {},
   "source": [
    "IPython支持 tab 键自动补全列名与公共属性。下面是部分可自动补全的属性："
   ]
  },
  {
   "cell_type": "code",
   "execution_count": 30,
   "metadata": {},
   "outputs": [],
   "source": [
    "df3.<TAB>\n",
    "# df2.A                  df2.bool\n",
    "# df2.abs                df2.boxplot\n",
    "# df2.add                df2.C\n",
    "# df2.add_prefix         df2.clip\n",
    "# df2.add_suffix         df2.clip_lower\n",
    "# df2.align              df2.clip_upper\n",
    "# df2.all                df2.columns\n",
    "# df2.any                df2.combine\n",
    "# df2.append             df2.combine_first\n",
    "# df2.apply              df2.compound\n",
    "# df2.applymap           df2.consolidate\n",
    "# df2.D\n",
    "# 列 A、B、C、D 和 E 都可以自动补全；为简洁起见，此处只显示了部分属性。"
   ]
  },
  {
   "cell_type": "markdown",
   "metadata": {},
   "source": [
    "### 查看数据\n",
    "\n",
    "详见[基础用法](https://pandas.pydata.org/pandas-docs/stable/getting_started/basics.html#basics)文档。\n",
    "\n",
    "下列代码说明如何查看 DataFrame 头部和尾部数据："
   ]
  },
  {
   "cell_type": "code",
   "execution_count": 41,
   "metadata": {},
   "outputs": [
    {
     "data": {
      "text/html": [
       "<div>\n",
       "<style scoped>\n",
       "    .dataframe tbody tr th:only-of-type {\n",
       "        vertical-align: middle;\n",
       "    }\n",
       "\n",
       "    .dataframe tbody tr th {\n",
       "        vertical-align: top;\n",
       "    }\n",
       "\n",
       "    .dataframe thead th {\n",
       "        text-align: right;\n",
       "    }\n",
       "</style>\n",
       "<table border=\"1\" class=\"dataframe\">\n",
       "  <thead>\n",
       "    <tr style=\"text-align: right;\">\n",
       "      <th></th>\n",
       "      <th>A</th>\n",
       "      <th>B</th>\n",
       "      <th>C</th>\n",
       "      <th>D</th>\n",
       "    </tr>\n",
       "  </thead>\n",
       "  <tbody>\n",
       "    <tr>\n",
       "      <td>2015-01-01</td>\n",
       "      <td>0.425050</td>\n",
       "      <td>0.174167</td>\n",
       "      <td>-0.086784</td>\n",
       "      <td>0.437715</td>\n",
       "    </tr>\n",
       "    <tr>\n",
       "      <td>2015-01-02</td>\n",
       "      <td>0.000845</td>\n",
       "      <td>-0.895524</td>\n",
       "      <td>-0.175462</td>\n",
       "      <td>-0.145002</td>\n",
       "    </tr>\n",
       "    <tr>\n",
       "      <td>2015-01-03</td>\n",
       "      <td>0.797813</td>\n",
       "      <td>-1.397892</td>\n",
       "      <td>1.773624</td>\n",
       "      <td>-0.569873</td>\n",
       "    </tr>\n",
       "    <tr>\n",
       "      <td>2015-01-04</td>\n",
       "      <td>-0.832057</td>\n",
       "      <td>-0.107309</td>\n",
       "      <td>0.539165</td>\n",
       "      <td>0.166025</td>\n",
       "    </tr>\n",
       "    <tr>\n",
       "      <td>2015-01-05</td>\n",
       "      <td>0.146565</td>\n",
       "      <td>-0.920169</td>\n",
       "      <td>-1.132986</td>\n",
       "      <td>-0.084363</td>\n",
       "    </tr>\n",
       "  </tbody>\n",
       "</table>\n",
       "</div>"
      ],
      "text/plain": [
       "                   A         B         C         D\n",
       "2015-01-01  0.425050  0.174167 -0.086784  0.437715\n",
       "2015-01-02  0.000845 -0.895524 -0.175462 -0.145002\n",
       "2015-01-03  0.797813 -1.397892  1.773624 -0.569873\n",
       "2015-01-04 -0.832057 -0.107309  0.539165  0.166025\n",
       "2015-01-05  0.146565 -0.920169 -1.132986 -0.084363"
      ]
     },
     "execution_count": 41,
     "metadata": {},
     "output_type": "execute_result"
    }
   ],
   "source": [
    "df2.head()"
   ]
  },
  {
   "cell_type": "code",
   "execution_count": 40,
   "metadata": {},
   "outputs": [
    {
     "data": {
      "text/html": [
       "<div>\n",
       "<style scoped>\n",
       "    .dataframe tbody tr th:only-of-type {\n",
       "        vertical-align: middle;\n",
       "    }\n",
       "\n",
       "    .dataframe tbody tr th {\n",
       "        vertical-align: top;\n",
       "    }\n",
       "\n",
       "    .dataframe thead th {\n",
       "        text-align: right;\n",
       "    }\n",
       "</style>\n",
       "<table border=\"1\" class=\"dataframe\">\n",
       "  <thead>\n",
       "    <tr style=\"text-align: right;\">\n",
       "      <th></th>\n",
       "      <th>A</th>\n",
       "      <th>B</th>\n",
       "      <th>C</th>\n",
       "      <th>D</th>\n",
       "    </tr>\n",
       "  </thead>\n",
       "  <tbody>\n",
       "    <tr>\n",
       "      <td>2015-01-04</td>\n",
       "      <td>-0.832057</td>\n",
       "      <td>-0.107309</td>\n",
       "      <td>0.539165</td>\n",
       "      <td>0.166025</td>\n",
       "    </tr>\n",
       "    <tr>\n",
       "      <td>2015-01-05</td>\n",
       "      <td>0.146565</td>\n",
       "      <td>-0.920169</td>\n",
       "      <td>-1.132986</td>\n",
       "      <td>-0.084363</td>\n",
       "    </tr>\n",
       "    <tr>\n",
       "      <td>2015-01-06</td>\n",
       "      <td>0.057463</td>\n",
       "      <td>-0.211505</td>\n",
       "      <td>0.399993</td>\n",
       "      <td>-0.970626</td>\n",
       "    </tr>\n",
       "  </tbody>\n",
       "</table>\n",
       "</div>"
      ],
      "text/plain": [
       "                   A         B         C         D\n",
       "2015-01-04 -0.832057 -0.107309  0.539165  0.166025\n",
       "2015-01-05  0.146565 -0.920169 -1.132986 -0.084363\n",
       "2015-01-06  0.057463 -0.211505  0.399993 -0.970626"
      ]
     },
     "execution_count": 40,
     "metadata": {},
     "output_type": "execute_result"
    }
   ],
   "source": [
    "df2.tail(3)"
   ]
  },
  {
   "cell_type": "markdown",
   "metadata": {},
   "source": [
    "显示索引与列名"
   ]
  },
  {
   "cell_type": "code",
   "execution_count": 43,
   "metadata": {},
   "outputs": [
    {
     "data": {
      "text/plain": [
       "DatetimeIndex(['2015-01-01', '2015-01-02', '2015-01-03', '2015-01-04',\n",
       "               '2015-01-05', '2015-01-06'],\n",
       "              dtype='datetime64[ns]', freq='D')"
      ]
     },
     "execution_count": 43,
     "metadata": {},
     "output_type": "execute_result"
    }
   ],
   "source": [
    "df2.index"
   ]
  },
  {
   "cell_type": "code",
   "execution_count": 44,
   "metadata": {},
   "outputs": [
    {
     "data": {
      "text/plain": [
       "Index(['A', 'B', 'C', 'D'], dtype='object')"
      ]
     },
     "execution_count": 44,
     "metadata": {},
     "output_type": "execute_result"
    }
   ],
   "source": [
    "df2.columns"
   ]
  },
  {
   "cell_type": "markdown",
   "metadata": {},
   "source": [
    "[DataFrame.to_numpy()](https://pandas.pydata.org/pandas-docs/stable/reference/api/pandas.DataFrame.to_numpy.html#pandas.DataFrame.to_numpy) 输出底层数据的 NumPy 对象。注意，DataFrame 的列由多种数据类型组成时，该操作耗费系统资源较大，这也是 Pandas 和 NumPy 的本质区别：**NumPy 数组只有一种数据类型，DataFrame 每列的数据类型各不相同**。调用 DataFrame.to_numpy() 时，Pandas 查找支持 DataFrame 里所有数据类型的 NumPy 数据类型。还有一种数据类型是 `object`，可以把 DataFrame 列里的值强制转换为 Python 对象。\n",
    "\n",
    "下面的 `df2` 这个 DataFrame 里的值都是浮点数，DataFrame.to_numpy() 的操作会很快，而且不复制数据。"
   ]
  },
  {
   "cell_type": "code",
   "execution_count": 45,
   "metadata": {},
   "outputs": [
    {
     "data": {
      "text/plain": [
       "array([[ 4.25049707e-01,  1.74166667e-01, -8.67841986e-02,\n",
       "         4.37715329e-01],\n",
       "       [ 8.44889963e-04, -8.95524331e-01, -1.75461575e-01,\n",
       "        -1.45002426e-01],\n",
       "       [ 7.97812759e-01, -1.39789163e+00,  1.77362401e+00,\n",
       "        -5.69872973e-01],\n",
       "       [-8.32057284e-01, -1.07309263e-01,  5.39165238e-01,\n",
       "         1.66024968e-01],\n",
       "       [ 1.46565394e-01, -9.20169073e-01, -1.13298619e+00,\n",
       "        -8.43633483e-02],\n",
       "       [ 5.74625068e-02, -2.11505449e-01,  3.99992930e-01,\n",
       "        -9.70626263e-01]])"
      ]
     },
     "execution_count": 45,
     "metadata": {},
     "output_type": "execute_result"
    }
   ],
   "source": [
    "df2.to_numpy()"
   ]
  },
  {
   "cell_type": "markdown",
   "metadata": {},
   "source": [
    "`df3` 这个 DataFrame 包含了多种类型，DataFrame.to_numpy() 操作就会耗费较多资源。"
   ]
  },
  {
   "cell_type": "code",
   "execution_count": 47,
   "metadata": {},
   "outputs": [
    {
     "data": {
      "text/plain": [
       "array([[1.0, Timestamp('2015-01-01 00:00:00'), 1.0, 3, 'test', 'foo'],\n",
       "       [1.0, Timestamp('2015-01-01 00:00:00'), 1.0, 3, 'train', 'foo'],\n",
       "       [1.0, Timestamp('2015-01-01 00:00:00'), 1.0, 3, 'test', 'foo'],\n",
       "       [1.0, Timestamp('2015-01-01 00:00:00'), 1.0, 3, 'train', 'foo']],\n",
       "      dtype=object)"
      ]
     },
     "execution_count": 47,
     "metadata": {},
     "output_type": "execute_result"
    }
   ],
   "source": [
    "df3.to_numpy()"
   ]
  },
  {
   "cell_type": "markdown",
   "metadata": {},
   "source": [
    "**提醒**：\n",
    "DataFrame.to_numpy() 的输出不包含行索引和列标签。"
   ]
  },
  {
   "cell_type": "markdown",
   "metadata": {},
   "source": [
    "[describe()](https://pandas.pydata.org/pandas-docs/stable/reference/api/pandas.DataFrame.describe.html#pandas.DataFrame.describe) 可以快速查看数据的统计摘要："
   ]
  },
  {
   "cell_type": "code",
   "execution_count": 48,
   "metadata": {},
   "outputs": [
    {
     "data": {
      "text/html": [
       "<div>\n",
       "<style scoped>\n",
       "    .dataframe tbody tr th:only-of-type {\n",
       "        vertical-align: middle;\n",
       "    }\n",
       "\n",
       "    .dataframe tbody tr th {\n",
       "        vertical-align: top;\n",
       "    }\n",
       "\n",
       "    .dataframe thead th {\n",
       "        text-align: right;\n",
       "    }\n",
       "</style>\n",
       "<table border=\"1\" class=\"dataframe\">\n",
       "  <thead>\n",
       "    <tr style=\"text-align: right;\">\n",
       "      <th></th>\n",
       "      <th>A</th>\n",
       "      <th>B</th>\n",
       "      <th>C</th>\n",
       "      <th>D</th>\n",
       "    </tr>\n",
       "  </thead>\n",
       "  <tbody>\n",
       "    <tr>\n",
       "      <td>count</td>\n",
       "      <td>6.000000</td>\n",
       "      <td>6.000000</td>\n",
       "      <td>6.000000</td>\n",
       "      <td>6.000000</td>\n",
       "    </tr>\n",
       "    <tr>\n",
       "      <td>mean</td>\n",
       "      <td>0.099280</td>\n",
       "      <td>-0.559706</td>\n",
       "      <td>0.219592</td>\n",
       "      <td>-0.194354</td>\n",
       "    </tr>\n",
       "    <tr>\n",
       "      <td>std</td>\n",
       "      <td>0.543164</td>\n",
       "      <td>0.601621</td>\n",
       "      <td>0.962194</td>\n",
       "      <td>0.507451</td>\n",
       "    </tr>\n",
       "    <tr>\n",
       "      <td>min</td>\n",
       "      <td>-0.832057</td>\n",
       "      <td>-1.397892</td>\n",
       "      <td>-1.132986</td>\n",
       "      <td>-0.970626</td>\n",
       "    </tr>\n",
       "    <tr>\n",
       "      <td>25%</td>\n",
       "      <td>0.014999</td>\n",
       "      <td>-0.914008</td>\n",
       "      <td>-0.153292</td>\n",
       "      <td>-0.463655</td>\n",
       "    </tr>\n",
       "    <tr>\n",
       "      <td>50%</td>\n",
       "      <td>0.102014</td>\n",
       "      <td>-0.553515</td>\n",
       "      <td>0.156604</td>\n",
       "      <td>-0.114683</td>\n",
       "    </tr>\n",
       "    <tr>\n",
       "      <td>75%</td>\n",
       "      <td>0.355429</td>\n",
       "      <td>-0.133358</td>\n",
       "      <td>0.504372</td>\n",
       "      <td>0.103428</td>\n",
       "    </tr>\n",
       "    <tr>\n",
       "      <td>max</td>\n",
       "      <td>0.797813</td>\n",
       "      <td>0.174167</td>\n",
       "      <td>1.773624</td>\n",
       "      <td>0.437715</td>\n",
       "    </tr>\n",
       "  </tbody>\n",
       "</table>\n",
       "</div>"
      ],
      "text/plain": [
       "              A         B         C         D\n",
       "count  6.000000  6.000000  6.000000  6.000000\n",
       "mean   0.099280 -0.559706  0.219592 -0.194354\n",
       "std    0.543164  0.601621  0.962194  0.507451\n",
       "min   -0.832057 -1.397892 -1.132986 -0.970626\n",
       "25%    0.014999 -0.914008 -0.153292 -0.463655\n",
       "50%    0.102014 -0.553515  0.156604 -0.114683\n",
       "75%    0.355429 -0.133358  0.504372  0.103428\n",
       "max    0.797813  0.174167  1.773624  0.437715"
      ]
     },
     "execution_count": 48,
     "metadata": {},
     "output_type": "execute_result"
    }
   ],
   "source": [
    "df2.describe()"
   ]
  },
  {
   "cell_type": "markdown",
   "metadata": {},
   "source": [
    "转置数据："
   ]
  },
  {
   "cell_type": "code",
   "execution_count": 57,
   "metadata": {},
   "outputs": [
    {
     "name": "stdout",
     "output_type": "stream",
     "text": [
      "                   A         B         C         D\n",
      "2015-01-01  0.425050  0.174167 -0.086784  0.437715\n",
      "2015-01-02  0.000845 -0.895524 -0.175462 -0.145002\n",
      "2015-01-03  0.797813 -1.397892  1.773624 -0.569873\n",
      "2015-01-04 -0.832057 -0.107309  0.539165  0.166025\n",
      "2015-01-05  0.146565 -0.920169 -1.132986 -0.084363\n",
      "2015-01-06  0.057463 -0.211505  0.399993 -0.970626\n",
      "\n",
      "-------------------转置后-------------------------\n"
     ]
    },
    {
     "data": {
      "text/html": [
       "<div>\n",
       "<style scoped>\n",
       "    .dataframe tbody tr th:only-of-type {\n",
       "        vertical-align: middle;\n",
       "    }\n",
       "\n",
       "    .dataframe tbody tr th {\n",
       "        vertical-align: top;\n",
       "    }\n",
       "\n",
       "    .dataframe thead th {\n",
       "        text-align: right;\n",
       "    }\n",
       "</style>\n",
       "<table border=\"1\" class=\"dataframe\">\n",
       "  <thead>\n",
       "    <tr style=\"text-align: right;\">\n",
       "      <th></th>\n",
       "      <th>2015-01-01</th>\n",
       "      <th>2015-01-02</th>\n",
       "      <th>2015-01-03</th>\n",
       "      <th>2015-01-04</th>\n",
       "      <th>2015-01-05</th>\n",
       "      <th>2015-01-06</th>\n",
       "    </tr>\n",
       "  </thead>\n",
       "  <tbody>\n",
       "    <tr>\n",
       "      <td>A</td>\n",
       "      <td>0.425050</td>\n",
       "      <td>0.000845</td>\n",
       "      <td>0.797813</td>\n",
       "      <td>-0.832057</td>\n",
       "      <td>0.146565</td>\n",
       "      <td>0.057463</td>\n",
       "    </tr>\n",
       "    <tr>\n",
       "      <td>B</td>\n",
       "      <td>0.174167</td>\n",
       "      <td>-0.895524</td>\n",
       "      <td>-1.397892</td>\n",
       "      <td>-0.107309</td>\n",
       "      <td>-0.920169</td>\n",
       "      <td>-0.211505</td>\n",
       "    </tr>\n",
       "    <tr>\n",
       "      <td>C</td>\n",
       "      <td>-0.086784</td>\n",
       "      <td>-0.175462</td>\n",
       "      <td>1.773624</td>\n",
       "      <td>0.539165</td>\n",
       "      <td>-1.132986</td>\n",
       "      <td>0.399993</td>\n",
       "    </tr>\n",
       "    <tr>\n",
       "      <td>D</td>\n",
       "      <td>0.437715</td>\n",
       "      <td>-0.145002</td>\n",
       "      <td>-0.569873</td>\n",
       "      <td>0.166025</td>\n",
       "      <td>-0.084363</td>\n",
       "      <td>-0.970626</td>\n",
       "    </tr>\n",
       "  </tbody>\n",
       "</table>\n",
       "</div>"
      ],
      "text/plain": [
       "   2015-01-01  2015-01-02  2015-01-03  2015-01-04  2015-01-05  2015-01-06\n",
       "A    0.425050    0.000845    0.797813   -0.832057    0.146565    0.057463\n",
       "B    0.174167   -0.895524   -1.397892   -0.107309   -0.920169   -0.211505\n",
       "C   -0.086784   -0.175462    1.773624    0.539165   -1.132986    0.399993\n",
       "D    0.437715   -0.145002   -0.569873    0.166025   -0.084363   -0.970626"
      ]
     },
     "execution_count": 57,
     "metadata": {},
     "output_type": "execute_result"
    }
   ],
   "source": [
    "print(df2)\n",
    "print(\"\\n-------------------转置后-------------------------\")\n",
    "df2.T"
   ]
  },
  {
   "cell_type": "markdown",
   "metadata": {},
   "source": [
    "按轴排序："
   ]
  },
  {
   "cell_type": "code",
   "execution_count": 56,
   "metadata": {},
   "outputs": [
    {
     "data": {
      "text/html": [
       "<div>\n",
       "<style scoped>\n",
       "    .dataframe tbody tr th:only-of-type {\n",
       "        vertical-align: middle;\n",
       "    }\n",
       "\n",
       "    .dataframe tbody tr th {\n",
       "        vertical-align: top;\n",
       "    }\n",
       "\n",
       "    .dataframe thead th {\n",
       "        text-align: right;\n",
       "    }\n",
       "</style>\n",
       "<table border=\"1\" class=\"dataframe\">\n",
       "  <thead>\n",
       "    <tr style=\"text-align: right;\">\n",
       "      <th></th>\n",
       "      <th>D</th>\n",
       "      <th>C</th>\n",
       "      <th>B</th>\n",
       "      <th>A</th>\n",
       "    </tr>\n",
       "  </thead>\n",
       "  <tbody>\n",
       "    <tr>\n",
       "      <td>2015-01-01</td>\n",
       "      <td>0.437715</td>\n",
       "      <td>-0.086784</td>\n",
       "      <td>0.174167</td>\n",
       "      <td>0.425050</td>\n",
       "    </tr>\n",
       "    <tr>\n",
       "      <td>2015-01-02</td>\n",
       "      <td>-0.145002</td>\n",
       "      <td>-0.175462</td>\n",
       "      <td>-0.895524</td>\n",
       "      <td>0.000845</td>\n",
       "    </tr>\n",
       "    <tr>\n",
       "      <td>2015-01-03</td>\n",
       "      <td>-0.569873</td>\n",
       "      <td>1.773624</td>\n",
       "      <td>-1.397892</td>\n",
       "      <td>0.797813</td>\n",
       "    </tr>\n",
       "    <tr>\n",
       "      <td>2015-01-04</td>\n",
       "      <td>0.166025</td>\n",
       "      <td>0.539165</td>\n",
       "      <td>-0.107309</td>\n",
       "      <td>-0.832057</td>\n",
       "    </tr>\n",
       "    <tr>\n",
       "      <td>2015-01-05</td>\n",
       "      <td>-0.084363</td>\n",
       "      <td>-1.132986</td>\n",
       "      <td>-0.920169</td>\n",
       "      <td>0.146565</td>\n",
       "    </tr>\n",
       "    <tr>\n",
       "      <td>2015-01-06</td>\n",
       "      <td>-0.970626</td>\n",
       "      <td>0.399993</td>\n",
       "      <td>-0.211505</td>\n",
       "      <td>0.057463</td>\n",
       "    </tr>\n",
       "  </tbody>\n",
       "</table>\n",
       "</div>"
      ],
      "text/plain": [
       "                   D         C         B         A\n",
       "2015-01-01  0.437715 -0.086784  0.174167  0.425050\n",
       "2015-01-02 -0.145002 -0.175462 -0.895524  0.000845\n",
       "2015-01-03 -0.569873  1.773624 -1.397892  0.797813\n",
       "2015-01-04  0.166025  0.539165 -0.107309 -0.832057\n",
       "2015-01-05 -0.084363 -1.132986 -0.920169  0.146565\n",
       "2015-01-06 -0.970626  0.399993 -0.211505  0.057463"
      ]
     },
     "execution_count": 56,
     "metadata": {},
     "output_type": "execute_result"
    }
   ],
   "source": [
    "df2.sort_index(axis=1, ascending=False)"
   ]
  },
  {
   "cell_type": "markdown",
   "metadata": {},
   "source": [
    "按值排序："
   ]
  },
  {
   "cell_type": "code",
   "execution_count": 60,
   "metadata": {},
   "outputs": [
    {
     "data": {
      "text/html": [
       "<div>\n",
       "<style scoped>\n",
       "    .dataframe tbody tr th:only-of-type {\n",
       "        vertical-align: middle;\n",
       "    }\n",
       "\n",
       "    .dataframe tbody tr th {\n",
       "        vertical-align: top;\n",
       "    }\n",
       "\n",
       "    .dataframe thead th {\n",
       "        text-align: right;\n",
       "    }\n",
       "</style>\n",
       "<table border=\"1\" class=\"dataframe\">\n",
       "  <thead>\n",
       "    <tr style=\"text-align: right;\">\n",
       "      <th></th>\n",
       "      <th>A</th>\n",
       "      <th>B</th>\n",
       "      <th>C</th>\n",
       "      <th>D</th>\n",
       "    </tr>\n",
       "  </thead>\n",
       "  <tbody>\n",
       "    <tr>\n",
       "      <td>2015-01-03</td>\n",
       "      <td>0.797813</td>\n",
       "      <td>-1.397892</td>\n",
       "      <td>1.773624</td>\n",
       "      <td>-0.569873</td>\n",
       "    </tr>\n",
       "    <tr>\n",
       "      <td>2015-01-05</td>\n",
       "      <td>0.146565</td>\n",
       "      <td>-0.920169</td>\n",
       "      <td>-1.132986</td>\n",
       "      <td>-0.084363</td>\n",
       "    </tr>\n",
       "    <tr>\n",
       "      <td>2015-01-02</td>\n",
       "      <td>0.000845</td>\n",
       "      <td>-0.895524</td>\n",
       "      <td>-0.175462</td>\n",
       "      <td>-0.145002</td>\n",
       "    </tr>\n",
       "    <tr>\n",
       "      <td>2015-01-06</td>\n",
       "      <td>0.057463</td>\n",
       "      <td>-0.211505</td>\n",
       "      <td>0.399993</td>\n",
       "      <td>-0.970626</td>\n",
       "    </tr>\n",
       "    <tr>\n",
       "      <td>2015-01-04</td>\n",
       "      <td>-0.832057</td>\n",
       "      <td>-0.107309</td>\n",
       "      <td>0.539165</td>\n",
       "      <td>0.166025</td>\n",
       "    </tr>\n",
       "    <tr>\n",
       "      <td>2015-01-01</td>\n",
       "      <td>0.425050</td>\n",
       "      <td>0.174167</td>\n",
       "      <td>-0.086784</td>\n",
       "      <td>0.437715</td>\n",
       "    </tr>\n",
       "  </tbody>\n",
       "</table>\n",
       "</div>"
      ],
      "text/plain": [
       "                   A         B         C         D\n",
       "2015-01-03  0.797813 -1.397892  1.773624 -0.569873\n",
       "2015-01-05  0.146565 -0.920169 -1.132986 -0.084363\n",
       "2015-01-02  0.000845 -0.895524 -0.175462 -0.145002\n",
       "2015-01-06  0.057463 -0.211505  0.399993 -0.970626\n",
       "2015-01-04 -0.832057 -0.107309  0.539165  0.166025\n",
       "2015-01-01  0.425050  0.174167 -0.086784  0.437715"
      ]
     },
     "execution_count": 60,
     "metadata": {},
     "output_type": "execute_result"
    }
   ],
   "source": [
    "df2.sort_values(by='B')"
   ]
  },
  {
   "cell_type": "markdown",
   "metadata": {},
   "source": [
    "### 选择\n",
    "\n",
    "**提醒**：\n",
    "\n",
    "选择、设置标准 Python / Numpy 的表达式已经非常直观，交互也很方便，但对于生产代码，我们还是推荐优化过的 Pandas 数据访问方法：`.at`、`.iat`、`.loc` 和 `.iloc`。\n",
    "\n",
    "详见[索引与选择数据](https://pandas.pydata.org/pandas-docs/stable/user_guide/indexing.html#indexing)、[多层索引与高级索引](https://pandas.pydata.org/pandas-docs/stable/user_guide/advanced.html#advanced)文档。"
   ]
  },
  {
   "cell_type": "markdown",
   "metadata": {},
   "source": [
    "#### 获取数据\n",
    "\n",
    "选择单列，产生`Series`，与`df2.A`等效："
   ]
  },
  {
   "cell_type": "code",
   "execution_count": 62,
   "metadata": {},
   "outputs": [
    {
     "data": {
      "text/plain": [
       "2015-01-01    0.425050\n",
       "2015-01-02    0.000845\n",
       "2015-01-03    0.797813\n",
       "2015-01-04   -0.832057\n",
       "2015-01-05    0.146565\n",
       "2015-01-06    0.057463\n",
       "Freq: D, Name: A, dtype: float64"
      ]
     },
     "execution_count": 62,
     "metadata": {},
     "output_type": "execute_result"
    }
   ],
   "source": [
    "df2['A']"
   ]
  },
  {
   "cell_type": "markdown",
   "metadata": {},
   "source": [
    "用`[]`切片行："
   ]
  },
  {
   "cell_type": "code",
   "execution_count": 64,
   "metadata": {},
   "outputs": [
    {
     "data": {
      "text/html": [
       "<div>\n",
       "<style scoped>\n",
       "    .dataframe tbody tr th:only-of-type {\n",
       "        vertical-align: middle;\n",
       "    }\n",
       "\n",
       "    .dataframe tbody tr th {\n",
       "        vertical-align: top;\n",
       "    }\n",
       "\n",
       "    .dataframe thead th {\n",
       "        text-align: right;\n",
       "    }\n",
       "</style>\n",
       "<table border=\"1\" class=\"dataframe\">\n",
       "  <thead>\n",
       "    <tr style=\"text-align: right;\">\n",
       "      <th></th>\n",
       "      <th>A</th>\n",
       "      <th>B</th>\n",
       "      <th>C</th>\n",
       "      <th>D</th>\n",
       "    </tr>\n",
       "  </thead>\n",
       "  <tbody>\n",
       "    <tr>\n",
       "      <td>2015-01-01</td>\n",
       "      <td>0.425050</td>\n",
       "      <td>0.174167</td>\n",
       "      <td>-0.086784</td>\n",
       "      <td>0.437715</td>\n",
       "    </tr>\n",
       "    <tr>\n",
       "      <td>2015-01-02</td>\n",
       "      <td>0.000845</td>\n",
       "      <td>-0.895524</td>\n",
       "      <td>-0.175462</td>\n",
       "      <td>-0.145002</td>\n",
       "    </tr>\n",
       "    <tr>\n",
       "      <td>2015-01-03</td>\n",
       "      <td>0.797813</td>\n",
       "      <td>-1.397892</td>\n",
       "      <td>1.773624</td>\n",
       "      <td>-0.569873</td>\n",
       "    </tr>\n",
       "  </tbody>\n",
       "</table>\n",
       "</div>"
      ],
      "text/plain": [
       "                   A         B         C         D\n",
       "2015-01-01  0.425050  0.174167 -0.086784  0.437715\n",
       "2015-01-02  0.000845 -0.895524 -0.175462 -0.145002\n",
       "2015-01-03  0.797813 -1.397892  1.773624 -0.569873"
      ]
     },
     "execution_count": 64,
     "metadata": {},
     "output_type": "execute_result"
    }
   ],
   "source": [
    "df2[0:3]"
   ]
  },
  {
   "cell_type": "code",
   "execution_count": 68,
   "metadata": {},
   "outputs": [
    {
     "data": {
      "text/html": [
       "<div>\n",
       "<style scoped>\n",
       "    .dataframe tbody tr th:only-of-type {\n",
       "        vertical-align: middle;\n",
       "    }\n",
       "\n",
       "    .dataframe tbody tr th {\n",
       "        vertical-align: top;\n",
       "    }\n",
       "\n",
       "    .dataframe thead th {\n",
       "        text-align: right;\n",
       "    }\n",
       "</style>\n",
       "<table border=\"1\" class=\"dataframe\">\n",
       "  <thead>\n",
       "    <tr style=\"text-align: right;\">\n",
       "      <th></th>\n",
       "      <th>A</th>\n",
       "      <th>B</th>\n",
       "      <th>C</th>\n",
       "      <th>D</th>\n",
       "    </tr>\n",
       "  </thead>\n",
       "  <tbody>\n",
       "    <tr>\n",
       "      <td>2015-01-02</td>\n",
       "      <td>0.000845</td>\n",
       "      <td>-0.895524</td>\n",
       "      <td>-0.175462</td>\n",
       "      <td>-0.145002</td>\n",
       "    </tr>\n",
       "    <tr>\n",
       "      <td>2015-01-03</td>\n",
       "      <td>0.797813</td>\n",
       "      <td>-1.397892</td>\n",
       "      <td>1.773624</td>\n",
       "      <td>-0.569873</td>\n",
       "    </tr>\n",
       "  </tbody>\n",
       "</table>\n",
       "</div>"
      ],
      "text/plain": [
       "                   A         B         C         D\n",
       "2015-01-02  0.000845 -0.895524 -0.175462 -0.145002\n",
       "2015-01-03  0.797813 -1.397892  1.773624 -0.569873"
      ]
     },
     "execution_count": 68,
     "metadata": {},
     "output_type": "execute_result"
    }
   ],
   "source": [
    "df2['20150102': '20150103']"
   ]
  },
  {
   "cell_type": "markdown",
   "metadata": {},
   "source": [
    "#### 按标签选择\n",
    "\n",
    "详见[按标签选择](https://pandas.pydata.org/pandas-docs/stable/user_guide/indexing.html#indexing-label)\n",
    "\n",
    "用标签提取一行数据："
   ]
  },
  {
   "cell_type": "code",
   "execution_count": 66,
   "metadata": {},
   "outputs": [
    {
     "data": {
      "text/plain": [
       "A    0.425050\n",
       "B    0.174167\n",
       "C   -0.086784\n",
       "D    0.437715\n",
       "Name: 2015-01-01 00:00:00, dtype: float64"
      ]
     },
     "execution_count": 66,
     "metadata": {},
     "output_type": "execute_result"
    }
   ],
   "source": [
    "df2.loc[df1[0]]"
   ]
  },
  {
   "cell_type": "markdown",
   "metadata": {},
   "source": [
    "用标签选择多列数据："
   ]
  },
  {
   "cell_type": "code",
   "execution_count": 67,
   "metadata": {},
   "outputs": [
    {
     "data": {
      "text/html": [
       "<div>\n",
       "<style scoped>\n",
       "    .dataframe tbody tr th:only-of-type {\n",
       "        vertical-align: middle;\n",
       "    }\n",
       "\n",
       "    .dataframe tbody tr th {\n",
       "        vertical-align: top;\n",
       "    }\n",
       "\n",
       "    .dataframe thead th {\n",
       "        text-align: right;\n",
       "    }\n",
       "</style>\n",
       "<table border=\"1\" class=\"dataframe\">\n",
       "  <thead>\n",
       "    <tr style=\"text-align: right;\">\n",
       "      <th></th>\n",
       "      <th>A</th>\n",
       "      <th>B</th>\n",
       "    </tr>\n",
       "  </thead>\n",
       "  <tbody>\n",
       "    <tr>\n",
       "      <td>2015-01-01</td>\n",
       "      <td>0.425050</td>\n",
       "      <td>0.174167</td>\n",
       "    </tr>\n",
       "    <tr>\n",
       "      <td>2015-01-02</td>\n",
       "      <td>0.000845</td>\n",
       "      <td>-0.895524</td>\n",
       "    </tr>\n",
       "    <tr>\n",
       "      <td>2015-01-03</td>\n",
       "      <td>0.797813</td>\n",
       "      <td>-1.397892</td>\n",
       "    </tr>\n",
       "    <tr>\n",
       "      <td>2015-01-04</td>\n",
       "      <td>-0.832057</td>\n",
       "      <td>-0.107309</td>\n",
       "    </tr>\n",
       "    <tr>\n",
       "      <td>2015-01-05</td>\n",
       "      <td>0.146565</td>\n",
       "      <td>-0.920169</td>\n",
       "    </tr>\n",
       "    <tr>\n",
       "      <td>2015-01-06</td>\n",
       "      <td>0.057463</td>\n",
       "      <td>-0.211505</td>\n",
       "    </tr>\n",
       "  </tbody>\n",
       "</table>\n",
       "</div>"
      ],
      "text/plain": [
       "                   A         B\n",
       "2015-01-01  0.425050  0.174167\n",
       "2015-01-02  0.000845 -0.895524\n",
       "2015-01-03  0.797813 -1.397892\n",
       "2015-01-04 -0.832057 -0.107309\n",
       "2015-01-05  0.146565 -0.920169\n",
       "2015-01-06  0.057463 -0.211505"
      ]
     },
     "execution_count": 67,
     "metadata": {},
     "output_type": "execute_result"
    }
   ],
   "source": [
    "df2.loc[:,['A', 'B']]"
   ]
  },
  {
   "cell_type": "markdown",
   "metadata": {},
   "source": [
    "用标签切片，包含行与列结束点："
   ]
  },
  {
   "cell_type": "code",
   "execution_count": 69,
   "metadata": {},
   "outputs": [
    {
     "data": {
      "text/html": [
       "<div>\n",
       "<style scoped>\n",
       "    .dataframe tbody tr th:only-of-type {\n",
       "        vertical-align: middle;\n",
       "    }\n",
       "\n",
       "    .dataframe tbody tr th {\n",
       "        vertical-align: top;\n",
       "    }\n",
       "\n",
       "    .dataframe thead th {\n",
       "        text-align: right;\n",
       "    }\n",
       "</style>\n",
       "<table border=\"1\" class=\"dataframe\">\n",
       "  <thead>\n",
       "    <tr style=\"text-align: right;\">\n",
       "      <th></th>\n",
       "      <th>A</th>\n",
       "      <th>B</th>\n",
       "    </tr>\n",
       "  </thead>\n",
       "  <tbody>\n",
       "    <tr>\n",
       "      <td>2015-01-02</td>\n",
       "      <td>0.000845</td>\n",
       "      <td>-0.895524</td>\n",
       "    </tr>\n",
       "    <tr>\n",
       "      <td>2015-01-03</td>\n",
       "      <td>0.797813</td>\n",
       "      <td>-1.397892</td>\n",
       "    </tr>\n",
       "    <tr>\n",
       "      <td>2015-01-04</td>\n",
       "      <td>-0.832057</td>\n",
       "      <td>-0.107309</td>\n",
       "    </tr>\n",
       "  </tbody>\n",
       "</table>\n",
       "</div>"
      ],
      "text/plain": [
       "                   A         B\n",
       "2015-01-02  0.000845 -0.895524\n",
       "2015-01-03  0.797813 -1.397892\n",
       "2015-01-04 -0.832057 -0.107309"
      ]
     },
     "execution_count": 69,
     "metadata": {},
     "output_type": "execute_result"
    }
   ],
   "source": [
    "df2.loc['20150102': '20150104', ['A','B']]"
   ]
  },
  {
   "cell_type": "markdown",
   "metadata": {},
   "source": [
    "返回对象降维："
   ]
  },
  {
   "cell_type": "code",
   "execution_count": 71,
   "metadata": {},
   "outputs": [
    {
     "data": {
      "text/plain": [
       "A    0.000845\n",
       "B   -0.895524\n",
       "Name: 2015-01-02 00:00:00, dtype: float64"
      ]
     },
     "execution_count": 71,
     "metadata": {},
     "output_type": "execute_result"
    }
   ],
   "source": [
    "df2.loc['20150102', ['A','B']]"
   ]
  },
  {
   "cell_type": "markdown",
   "metadata": {},
   "source": [
    "提取标量值："
   ]
  },
  {
   "cell_type": "code",
   "execution_count": 72,
   "metadata": {},
   "outputs": [
    {
     "data": {
      "text/plain": [
       "0.4250497071849015"
      ]
     },
     "execution_count": 72,
     "metadata": {},
     "output_type": "execute_result"
    }
   ],
   "source": [
    "df2.loc[df1[0],'A']"
   ]
  },
  {
   "cell_type": "markdown",
   "metadata": {},
   "source": [
    "快速访问标量，与上述方法等效"
   ]
  },
  {
   "cell_type": "code",
   "execution_count": 73,
   "metadata": {},
   "outputs": [
    {
     "data": {
      "text/plain": [
       "0.4250497071849015"
      ]
     },
     "execution_count": 73,
     "metadata": {},
     "output_type": "execute_result"
    }
   ],
   "source": [
    "df2.at[df1[0], 'A']"
   ]
  },
  {
   "cell_type": "markdown",
   "metadata": {},
   "source": [
    "#### 按位置选择\n",
    "\n",
    "详见按[位置选择](http://pandas.pydata.org/Pandas-docs/stable/indexing.html#indexing-integer)\n",
    "\n",
    "用整数位置选择："
   ]
  },
  {
   "cell_type": "code",
   "execution_count": 74,
   "metadata": {},
   "outputs": [
    {
     "data": {
      "text/plain": [
       "A   -0.832057\n",
       "B   -0.107309\n",
       "C    0.539165\n",
       "D    0.166025\n",
       "Name: 2015-01-04 00:00:00, dtype: float64"
      ]
     },
     "execution_count": 74,
     "metadata": {},
     "output_type": "execute_result"
    }
   ],
   "source": [
    "df2.iloc[3]"
   ]
  },
  {
   "cell_type": "markdown",
   "metadata": {},
   "source": [
    "类似Numpy/Python，用整数切片"
   ]
  },
  {
   "cell_type": "code",
   "execution_count": 76,
   "metadata": {},
   "outputs": [
    {
     "data": {
      "text/html": [
       "<div>\n",
       "<style scoped>\n",
       "    .dataframe tbody tr th:only-of-type {\n",
       "        vertical-align: middle;\n",
       "    }\n",
       "\n",
       "    .dataframe tbody tr th {\n",
       "        vertical-align: top;\n",
       "    }\n",
       "\n",
       "    .dataframe thead th {\n",
       "        text-align: right;\n",
       "    }\n",
       "</style>\n",
       "<table border=\"1\" class=\"dataframe\">\n",
       "  <thead>\n",
       "    <tr style=\"text-align: right;\">\n",
       "      <th></th>\n",
       "      <th>A</th>\n",
       "      <th>B</th>\n",
       "    </tr>\n",
       "  </thead>\n",
       "  <tbody>\n",
       "    <tr>\n",
       "      <td>2015-01-04</td>\n",
       "      <td>-0.832057</td>\n",
       "      <td>-0.107309</td>\n",
       "    </tr>\n",
       "    <tr>\n",
       "      <td>2015-01-05</td>\n",
       "      <td>0.146565</td>\n",
       "      <td>-0.920169</td>\n",
       "    </tr>\n",
       "  </tbody>\n",
       "</table>\n",
       "</div>"
      ],
      "text/plain": [
       "                   A         B\n",
       "2015-01-04 -0.832057 -0.107309\n",
       "2015-01-05  0.146565 -0.920169"
      ]
     },
     "execution_count": 76,
     "metadata": {},
     "output_type": "execute_result"
    }
   ],
   "source": [
    "df2.iloc[3:5,0:2]"
   ]
  },
  {
   "cell_type": "markdown",
   "metadata": {},
   "source": [
    "类型Numpy/Python，用整数列表按位置切片："
   ]
  },
  {
   "cell_type": "code",
   "execution_count": 77,
   "metadata": {},
   "outputs": [
    {
     "data": {
      "text/html": [
       "<div>\n",
       "<style scoped>\n",
       "    .dataframe tbody tr th:only-of-type {\n",
       "        vertical-align: middle;\n",
       "    }\n",
       "\n",
       "    .dataframe tbody tr th {\n",
       "        vertical-align: top;\n",
       "    }\n",
       "\n",
       "    .dataframe thead th {\n",
       "        text-align: right;\n",
       "    }\n",
       "</style>\n",
       "<table border=\"1\" class=\"dataframe\">\n",
       "  <thead>\n",
       "    <tr style=\"text-align: right;\">\n",
       "      <th></th>\n",
       "      <th>A</th>\n",
       "      <th>C</th>\n",
       "    </tr>\n",
       "  </thead>\n",
       "  <tbody>\n",
       "    <tr>\n",
       "      <td>2015-01-02</td>\n",
       "      <td>0.000845</td>\n",
       "      <td>-0.175462</td>\n",
       "    </tr>\n",
       "    <tr>\n",
       "      <td>2015-01-03</td>\n",
       "      <td>0.797813</td>\n",
       "      <td>1.773624</td>\n",
       "    </tr>\n",
       "    <tr>\n",
       "      <td>2015-01-05</td>\n",
       "      <td>0.146565</td>\n",
       "      <td>-1.132986</td>\n",
       "    </tr>\n",
       "  </tbody>\n",
       "</table>\n",
       "</div>"
      ],
      "text/plain": [
       "                   A         C\n",
       "2015-01-02  0.000845 -0.175462\n",
       "2015-01-03  0.797813  1.773624\n",
       "2015-01-05  0.146565 -1.132986"
      ]
     },
     "execution_count": 77,
     "metadata": {},
     "output_type": "execute_result"
    }
   ],
   "source": [
    "df2.iloc[[1,2,4], [0,2]]"
   ]
  },
  {
   "cell_type": "markdown",
   "metadata": {},
   "source": [
    "显式整行切片"
   ]
  },
  {
   "cell_type": "code",
   "execution_count": 78,
   "metadata": {},
   "outputs": [
    {
     "data": {
      "text/html": [
       "<div>\n",
       "<style scoped>\n",
       "    .dataframe tbody tr th:only-of-type {\n",
       "        vertical-align: middle;\n",
       "    }\n",
       "\n",
       "    .dataframe tbody tr th {\n",
       "        vertical-align: top;\n",
       "    }\n",
       "\n",
       "    .dataframe thead th {\n",
       "        text-align: right;\n",
       "    }\n",
       "</style>\n",
       "<table border=\"1\" class=\"dataframe\">\n",
       "  <thead>\n",
       "    <tr style=\"text-align: right;\">\n",
       "      <th></th>\n",
       "      <th>A</th>\n",
       "      <th>B</th>\n",
       "      <th>C</th>\n",
       "      <th>D</th>\n",
       "    </tr>\n",
       "  </thead>\n",
       "  <tbody>\n",
       "    <tr>\n",
       "      <td>2015-01-02</td>\n",
       "      <td>0.000845</td>\n",
       "      <td>-0.895524</td>\n",
       "      <td>-0.175462</td>\n",
       "      <td>-0.145002</td>\n",
       "    </tr>\n",
       "    <tr>\n",
       "      <td>2015-01-03</td>\n",
       "      <td>0.797813</td>\n",
       "      <td>-1.397892</td>\n",
       "      <td>1.773624</td>\n",
       "      <td>-0.569873</td>\n",
       "    </tr>\n",
       "  </tbody>\n",
       "</table>\n",
       "</div>"
      ],
      "text/plain": [
       "                   A         B         C         D\n",
       "2015-01-02  0.000845 -0.895524 -0.175462 -0.145002\n",
       "2015-01-03  0.797813 -1.397892  1.773624 -0.569873"
      ]
     },
     "execution_count": 78,
     "metadata": {},
     "output_type": "execute_result"
    }
   ],
   "source": [
    "df2.iloc[1:3, :]"
   ]
  },
  {
   "cell_type": "markdown",
   "metadata": {},
   "source": [
    "显式整列切片："
   ]
  },
  {
   "cell_type": "code",
   "execution_count": 79,
   "metadata": {},
   "outputs": [
    {
     "data": {
      "text/html": [
       "<div>\n",
       "<style scoped>\n",
       "    .dataframe tbody tr th:only-of-type {\n",
       "        vertical-align: middle;\n",
       "    }\n",
       "\n",
       "    .dataframe tbody tr th {\n",
       "        vertical-align: top;\n",
       "    }\n",
       "\n",
       "    .dataframe thead th {\n",
       "        text-align: right;\n",
       "    }\n",
       "</style>\n",
       "<table border=\"1\" class=\"dataframe\">\n",
       "  <thead>\n",
       "    <tr style=\"text-align: right;\">\n",
       "      <th></th>\n",
       "      <th>B</th>\n",
       "      <th>C</th>\n",
       "    </tr>\n",
       "  </thead>\n",
       "  <tbody>\n",
       "    <tr>\n",
       "      <td>2015-01-01</td>\n",
       "      <td>0.174167</td>\n",
       "      <td>-0.086784</td>\n",
       "    </tr>\n",
       "    <tr>\n",
       "      <td>2015-01-02</td>\n",
       "      <td>-0.895524</td>\n",
       "      <td>-0.175462</td>\n",
       "    </tr>\n",
       "    <tr>\n",
       "      <td>2015-01-03</td>\n",
       "      <td>-1.397892</td>\n",
       "      <td>1.773624</td>\n",
       "    </tr>\n",
       "    <tr>\n",
       "      <td>2015-01-04</td>\n",
       "      <td>-0.107309</td>\n",
       "      <td>0.539165</td>\n",
       "    </tr>\n",
       "    <tr>\n",
       "      <td>2015-01-05</td>\n",
       "      <td>-0.920169</td>\n",
       "      <td>-1.132986</td>\n",
       "    </tr>\n",
       "    <tr>\n",
       "      <td>2015-01-06</td>\n",
       "      <td>-0.211505</td>\n",
       "      <td>0.399993</td>\n",
       "    </tr>\n",
       "  </tbody>\n",
       "</table>\n",
       "</div>"
      ],
      "text/plain": [
       "                   B         C\n",
       "2015-01-01  0.174167 -0.086784\n",
       "2015-01-02 -0.895524 -0.175462\n",
       "2015-01-03 -1.397892  1.773624\n",
       "2015-01-04 -0.107309  0.539165\n",
       "2015-01-05 -0.920169 -1.132986\n",
       "2015-01-06 -0.211505  0.399993"
      ]
     },
     "execution_count": 79,
     "metadata": {},
     "output_type": "execute_result"
    }
   ],
   "source": [
    "df2.iloc[:,1:3]"
   ]
  },
  {
   "cell_type": "markdown",
   "metadata": {},
   "source": [
    "显式提取值："
   ]
  },
  {
   "cell_type": "code",
   "execution_count": 80,
   "metadata": {},
   "outputs": [
    {
     "data": {
      "text/plain": [
       "-0.8955243305296425"
      ]
     },
     "execution_count": 80,
     "metadata": {},
     "output_type": "execute_result"
    }
   ],
   "source": [
    "df2.iloc[1,1]"
   ]
  },
  {
   "cell_type": "markdown",
   "metadata": {},
   "source": [
    "快速访问标量，与上述方法等效："
   ]
  },
  {
   "cell_type": "code",
   "execution_count": 82,
   "metadata": {},
   "outputs": [
    {
     "data": {
      "text/plain": [
       "-0.8955243305296425"
      ]
     },
     "execution_count": 82,
     "metadata": {},
     "output_type": "execute_result"
    }
   ],
   "source": [
    "df2.iat[1,1]"
   ]
  },
  {
   "cell_type": "markdown",
   "metadata": {},
   "source": [
    "#### 布尔索引\n",
    "\n",
    "用单列的值选择数据："
   ]
  },
  {
   "cell_type": "code",
   "execution_count": 92,
   "metadata": {},
   "outputs": [
    {
     "data": {
      "text/html": [
       "<div>\n",
       "<style scoped>\n",
       "    .dataframe tbody tr th:only-of-type {\n",
       "        vertical-align: middle;\n",
       "    }\n",
       "\n",
       "    .dataframe tbody tr th {\n",
       "        vertical-align: top;\n",
       "    }\n",
       "\n",
       "    .dataframe thead th {\n",
       "        text-align: right;\n",
       "    }\n",
       "</style>\n",
       "<table border=\"1\" class=\"dataframe\">\n",
       "  <thead>\n",
       "    <tr style=\"text-align: right;\">\n",
       "      <th></th>\n",
       "      <th>A</th>\n",
       "      <th>B</th>\n",
       "      <th>C</th>\n",
       "      <th>D</th>\n",
       "    </tr>\n",
       "  </thead>\n",
       "  <tbody>\n",
       "    <tr>\n",
       "      <td>2015-01-01</td>\n",
       "      <td>0.425050</td>\n",
       "      <td>0.174167</td>\n",
       "      <td>-0.086784</td>\n",
       "      <td>0.437715</td>\n",
       "    </tr>\n",
       "    <tr>\n",
       "      <td>2015-01-02</td>\n",
       "      <td>0.000845</td>\n",
       "      <td>-0.895524</td>\n",
       "      <td>-0.175462</td>\n",
       "      <td>-0.145002</td>\n",
       "    </tr>\n",
       "    <tr>\n",
       "      <td>2015-01-03</td>\n",
       "      <td>0.797813</td>\n",
       "      <td>-1.397892</td>\n",
       "      <td>1.773624</td>\n",
       "      <td>-0.569873</td>\n",
       "    </tr>\n",
       "    <tr>\n",
       "      <td>2015-01-05</td>\n",
       "      <td>0.146565</td>\n",
       "      <td>-0.920169</td>\n",
       "      <td>-1.132986</td>\n",
       "      <td>-0.084363</td>\n",
       "    </tr>\n",
       "    <tr>\n",
       "      <td>2015-01-06</td>\n",
       "      <td>0.057463</td>\n",
       "      <td>-0.211505</td>\n",
       "      <td>0.399993</td>\n",
       "      <td>-0.970626</td>\n",
       "    </tr>\n",
       "  </tbody>\n",
       "</table>\n",
       "</div>"
      ],
      "text/plain": [
       "                   A         B         C         D\n",
       "2015-01-01  0.425050  0.174167 -0.086784  0.437715\n",
       "2015-01-02  0.000845 -0.895524 -0.175462 -0.145002\n",
       "2015-01-03  0.797813 -1.397892  1.773624 -0.569873\n",
       "2015-01-05  0.146565 -0.920169 -1.132986 -0.084363\n",
       "2015-01-06  0.057463 -0.211505  0.399993 -0.970626"
      ]
     },
     "execution_count": 92,
     "metadata": {},
     "output_type": "execute_result"
    }
   ],
   "source": [
    "df2[df2.A > 0]"
   ]
  },
  {
   "cell_type": "markdown",
   "metadata": {},
   "source": [
    "选择DataFrame里满足条件的值："
   ]
  },
  {
   "cell_type": "code",
   "execution_count": 93,
   "metadata": {},
   "outputs": [
    {
     "data": {
      "text/html": [
       "<div>\n",
       "<style scoped>\n",
       "    .dataframe tbody tr th:only-of-type {\n",
       "        vertical-align: middle;\n",
       "    }\n",
       "\n",
       "    .dataframe tbody tr th {\n",
       "        vertical-align: top;\n",
       "    }\n",
       "\n",
       "    .dataframe thead th {\n",
       "        text-align: right;\n",
       "    }\n",
       "</style>\n",
       "<table border=\"1\" class=\"dataframe\">\n",
       "  <thead>\n",
       "    <tr style=\"text-align: right;\">\n",
       "      <th></th>\n",
       "      <th>A</th>\n",
       "      <th>B</th>\n",
       "      <th>C</th>\n",
       "      <th>D</th>\n",
       "    </tr>\n",
       "  </thead>\n",
       "  <tbody>\n",
       "    <tr>\n",
       "      <td>2015-01-01</td>\n",
       "      <td>0.425050</td>\n",
       "      <td>0.174167</td>\n",
       "      <td>NaN</td>\n",
       "      <td>0.437715</td>\n",
       "    </tr>\n",
       "    <tr>\n",
       "      <td>2015-01-02</td>\n",
       "      <td>0.000845</td>\n",
       "      <td>NaN</td>\n",
       "      <td>NaN</td>\n",
       "      <td>NaN</td>\n",
       "    </tr>\n",
       "    <tr>\n",
       "      <td>2015-01-03</td>\n",
       "      <td>0.797813</td>\n",
       "      <td>NaN</td>\n",
       "      <td>1.773624</td>\n",
       "      <td>NaN</td>\n",
       "    </tr>\n",
       "    <tr>\n",
       "      <td>2015-01-04</td>\n",
       "      <td>NaN</td>\n",
       "      <td>NaN</td>\n",
       "      <td>0.539165</td>\n",
       "      <td>0.166025</td>\n",
       "    </tr>\n",
       "    <tr>\n",
       "      <td>2015-01-05</td>\n",
       "      <td>0.146565</td>\n",
       "      <td>NaN</td>\n",
       "      <td>NaN</td>\n",
       "      <td>NaN</td>\n",
       "    </tr>\n",
       "    <tr>\n",
       "      <td>2015-01-06</td>\n",
       "      <td>0.057463</td>\n",
       "      <td>NaN</td>\n",
       "      <td>0.399993</td>\n",
       "      <td>NaN</td>\n",
       "    </tr>\n",
       "  </tbody>\n",
       "</table>\n",
       "</div>"
      ],
      "text/plain": [
       "                   A         B         C         D\n",
       "2015-01-01  0.425050  0.174167       NaN  0.437715\n",
       "2015-01-02  0.000845       NaN       NaN       NaN\n",
       "2015-01-03  0.797813       NaN  1.773624       NaN\n",
       "2015-01-04       NaN       NaN  0.539165  0.166025\n",
       "2015-01-05  0.146565       NaN       NaN       NaN\n",
       "2015-01-06  0.057463       NaN  0.399993       NaN"
      ]
     },
     "execution_count": 93,
     "metadata": {},
     "output_type": "execute_result"
    }
   ],
   "source": [
    "df2[df2 > 0]"
   ]
  },
  {
   "cell_type": "markdown",
   "metadata": {},
   "source": [
    "用[isin()](https://pandas.pydata.org/pandas-docs/stable/reference/api/pandas.Series.isin.html#pandas.Series.isin)筛选："
   ]
  },
  {
   "cell_type": "code",
   "execution_count": 98,
   "metadata": {},
   "outputs": [
    {
     "data": {
      "text/html": [
       "<div>\n",
       "<style scoped>\n",
       "    .dataframe tbody tr th:only-of-type {\n",
       "        vertical-align: middle;\n",
       "    }\n",
       "\n",
       "    .dataframe tbody tr th {\n",
       "        vertical-align: top;\n",
       "    }\n",
       "\n",
       "    .dataframe thead th {\n",
       "        text-align: right;\n",
       "    }\n",
       "</style>\n",
       "<table border=\"1\" class=\"dataframe\">\n",
       "  <thead>\n",
       "    <tr style=\"text-align: right;\">\n",
       "      <th></th>\n",
       "      <th>A</th>\n",
       "      <th>B</th>\n",
       "      <th>C</th>\n",
       "      <th>D</th>\n",
       "      <th>E</th>\n",
       "    </tr>\n",
       "  </thead>\n",
       "  <tbody>\n",
       "    <tr>\n",
       "      <td>2015-01-01</td>\n",
       "      <td>0.425050</td>\n",
       "      <td>0.174167</td>\n",
       "      <td>-0.086784</td>\n",
       "      <td>0.437715</td>\n",
       "      <td>one</td>\n",
       "    </tr>\n",
       "    <tr>\n",
       "      <td>2015-01-02</td>\n",
       "      <td>0.000845</td>\n",
       "      <td>-0.895524</td>\n",
       "      <td>-0.175462</td>\n",
       "      <td>-0.145002</td>\n",
       "      <td>two</td>\n",
       "    </tr>\n",
       "    <tr>\n",
       "      <td>2015-01-03</td>\n",
       "      <td>0.797813</td>\n",
       "      <td>-1.397892</td>\n",
       "      <td>1.773624</td>\n",
       "      <td>-0.569873</td>\n",
       "      <td>three</td>\n",
       "    </tr>\n",
       "    <tr>\n",
       "      <td>2015-01-04</td>\n",
       "      <td>-0.832057</td>\n",
       "      <td>-0.107309</td>\n",
       "      <td>0.539165</td>\n",
       "      <td>0.166025</td>\n",
       "      <td>four</td>\n",
       "    </tr>\n",
       "    <tr>\n",
       "      <td>2015-01-05</td>\n",
       "      <td>0.146565</td>\n",
       "      <td>-0.920169</td>\n",
       "      <td>-1.132986</td>\n",
       "      <td>-0.084363</td>\n",
       "      <td>three</td>\n",
       "    </tr>\n",
       "    <tr>\n",
       "      <td>2015-01-06</td>\n",
       "      <td>0.057463</td>\n",
       "      <td>-0.211505</td>\n",
       "      <td>0.399993</td>\n",
       "      <td>-0.970626</td>\n",
       "      <td>one</td>\n",
       "    </tr>\n",
       "  </tbody>\n",
       "</table>\n",
       "</div>"
      ],
      "text/plain": [
       "                   A         B         C         D      E\n",
       "2015-01-01  0.425050  0.174167 -0.086784  0.437715    one\n",
       "2015-01-02  0.000845 -0.895524 -0.175462 -0.145002    two\n",
       "2015-01-03  0.797813 -1.397892  1.773624 -0.569873  three\n",
       "2015-01-04 -0.832057 -0.107309  0.539165  0.166025   four\n",
       "2015-01-05  0.146565 -0.920169 -1.132986 -0.084363  three\n",
       "2015-01-06  0.057463 -0.211505  0.399993 -0.970626    one"
      ]
     },
     "execution_count": 98,
     "metadata": {},
     "output_type": "execute_result"
    }
   ],
   "source": [
    "df4 = df2.copy()\n",
    "df4['E'] = ['one', 'two', 'three', 'four', 'three', 'one']\n",
    "df4"
   ]
  },
  {
   "cell_type": "code",
   "execution_count": 99,
   "metadata": {},
   "outputs": [
    {
     "data": {
      "text/html": [
       "<div>\n",
       "<style scoped>\n",
       "    .dataframe tbody tr th:only-of-type {\n",
       "        vertical-align: middle;\n",
       "    }\n",
       "\n",
       "    .dataframe tbody tr th {\n",
       "        vertical-align: top;\n",
       "    }\n",
       "\n",
       "    .dataframe thead th {\n",
       "        text-align: right;\n",
       "    }\n",
       "</style>\n",
       "<table border=\"1\" class=\"dataframe\">\n",
       "  <thead>\n",
       "    <tr style=\"text-align: right;\">\n",
       "      <th></th>\n",
       "      <th>A</th>\n",
       "      <th>B</th>\n",
       "      <th>C</th>\n",
       "      <th>D</th>\n",
       "      <th>E</th>\n",
       "    </tr>\n",
       "  </thead>\n",
       "  <tbody>\n",
       "    <tr>\n",
       "      <td>2015-01-02</td>\n",
       "      <td>0.000845</td>\n",
       "      <td>-0.895524</td>\n",
       "      <td>-0.175462</td>\n",
       "      <td>-0.145002</td>\n",
       "      <td>two</td>\n",
       "    </tr>\n",
       "    <tr>\n",
       "      <td>2015-01-04</td>\n",
       "      <td>-0.832057</td>\n",
       "      <td>-0.107309</td>\n",
       "      <td>0.539165</td>\n",
       "      <td>0.166025</td>\n",
       "      <td>four</td>\n",
       "    </tr>\n",
       "  </tbody>\n",
       "</table>\n",
       "</div>"
      ],
      "text/plain": [
       "                   A         B         C         D     E\n",
       "2015-01-02  0.000845 -0.895524 -0.175462 -0.145002   two\n",
       "2015-01-04 -0.832057 -0.107309  0.539165  0.166025  four"
      ]
     },
     "execution_count": 99,
     "metadata": {},
     "output_type": "execute_result"
    }
   ],
   "source": [
    "df4[df4['E'].isin(['two', 'four'])]"
   ]
  },
  {
   "cell_type": "markdown",
   "metadata": {},
   "source": [
    "### 赋值\n",
    "\n",
    "用索引自动对齐新增列的数据："
   ]
  },
  {
   "cell_type": "code",
   "execution_count": 104,
   "metadata": {},
   "outputs": [
    {
     "name": "stdout",
     "output_type": "stream",
     "text": [
      "                   A         B         C         D  F\n",
      "2015-01-01  0.425050  0.174167 -0.086784  0.437715  1\n",
      "2015-01-02  0.000845 -0.895524 -0.175462 -0.145002  2\n",
      "2015-01-03  0.797813 -1.397892  1.773624 -0.569873  3\n",
      "2015-01-04 -0.832057 -0.107309  0.539165  0.166025  4\n",
      "2015-01-05  0.146565 -0.920169 -1.132986 -0.084363  5\n",
      "2015-01-06  0.057463 -0.211505  0.399993 -0.970626  6\n"
     ]
    }
   ],
   "source": [
    "s1 = pd.Series([1,2,3,4,5,6], index=pd.date_range('20150101', periods=6))\n",
    "df2['F'] = s1\n",
    "print(df2)"
   ]
  },
  {
   "cell_type": "markdown",
   "metadata": {},
   "source": [
    "按标签赋值："
   ]
  },
  {
   "cell_type": "code",
   "execution_count": 106,
   "metadata": {},
   "outputs": [
    {
     "data": {
      "text/html": [
       "<div>\n",
       "<style scoped>\n",
       "    .dataframe tbody tr th:only-of-type {\n",
       "        vertical-align: middle;\n",
       "    }\n",
       "\n",
       "    .dataframe tbody tr th {\n",
       "        vertical-align: top;\n",
       "    }\n",
       "\n",
       "    .dataframe thead th {\n",
       "        text-align: right;\n",
       "    }\n",
       "</style>\n",
       "<table border=\"1\" class=\"dataframe\">\n",
       "  <thead>\n",
       "    <tr style=\"text-align: right;\">\n",
       "      <th></th>\n",
       "      <th>A</th>\n",
       "      <th>B</th>\n",
       "      <th>C</th>\n",
       "      <th>D</th>\n",
       "      <th>F</th>\n",
       "    </tr>\n",
       "  </thead>\n",
       "  <tbody>\n",
       "    <tr>\n",
       "      <td>2015-01-01</td>\n",
       "      <td>0.000000</td>\n",
       "      <td>0.174167</td>\n",
       "      <td>-0.086784</td>\n",
       "      <td>0.437715</td>\n",
       "      <td>1</td>\n",
       "    </tr>\n",
       "    <tr>\n",
       "      <td>2015-01-02</td>\n",
       "      <td>0.000845</td>\n",
       "      <td>-0.895524</td>\n",
       "      <td>-0.175462</td>\n",
       "      <td>-0.145002</td>\n",
       "      <td>2</td>\n",
       "    </tr>\n",
       "    <tr>\n",
       "      <td>2015-01-03</td>\n",
       "      <td>0.797813</td>\n",
       "      <td>-1.397892</td>\n",
       "      <td>1.773624</td>\n",
       "      <td>-0.569873</td>\n",
       "      <td>3</td>\n",
       "    </tr>\n",
       "    <tr>\n",
       "      <td>2015-01-04</td>\n",
       "      <td>-0.832057</td>\n",
       "      <td>-0.107309</td>\n",
       "      <td>0.539165</td>\n",
       "      <td>0.166025</td>\n",
       "      <td>4</td>\n",
       "    </tr>\n",
       "    <tr>\n",
       "      <td>2015-01-05</td>\n",
       "      <td>0.146565</td>\n",
       "      <td>-0.920169</td>\n",
       "      <td>-1.132986</td>\n",
       "      <td>-0.084363</td>\n",
       "      <td>5</td>\n",
       "    </tr>\n",
       "    <tr>\n",
       "      <td>2015-01-06</td>\n",
       "      <td>0.057463</td>\n",
       "      <td>-0.211505</td>\n",
       "      <td>0.399993</td>\n",
       "      <td>-0.970626</td>\n",
       "      <td>6</td>\n",
       "    </tr>\n",
       "  </tbody>\n",
       "</table>\n",
       "</div>"
      ],
      "text/plain": [
       "                   A         B         C         D  F\n",
       "2015-01-01  0.000000  0.174167 -0.086784  0.437715  1\n",
       "2015-01-02  0.000845 -0.895524 -0.175462 -0.145002  2\n",
       "2015-01-03  0.797813 -1.397892  1.773624 -0.569873  3\n",
       "2015-01-04 -0.832057 -0.107309  0.539165  0.166025  4\n",
       "2015-01-05  0.146565 -0.920169 -1.132986 -0.084363  5\n",
       "2015-01-06  0.057463 -0.211505  0.399993 -0.970626  6"
      ]
     },
     "execution_count": 106,
     "metadata": {},
     "output_type": "execute_result"
    }
   ],
   "source": [
    "df2.at[df1[0], 'A'] = 0\n",
    "df2"
   ]
  },
  {
   "cell_type": "markdown",
   "metadata": {},
   "source": [
    "按位置赋值："
   ]
  },
  {
   "cell_type": "code",
   "execution_count": 107,
   "metadata": {},
   "outputs": [
    {
     "data": {
      "text/html": [
       "<div>\n",
       "<style scoped>\n",
       "    .dataframe tbody tr th:only-of-type {\n",
       "        vertical-align: middle;\n",
       "    }\n",
       "\n",
       "    .dataframe tbody tr th {\n",
       "        vertical-align: top;\n",
       "    }\n",
       "\n",
       "    .dataframe thead th {\n",
       "        text-align: right;\n",
       "    }\n",
       "</style>\n",
       "<table border=\"1\" class=\"dataframe\">\n",
       "  <thead>\n",
       "    <tr style=\"text-align: right;\">\n",
       "      <th></th>\n",
       "      <th>A</th>\n",
       "      <th>B</th>\n",
       "      <th>C</th>\n",
       "      <th>D</th>\n",
       "      <th>F</th>\n",
       "    </tr>\n",
       "  </thead>\n",
       "  <tbody>\n",
       "    <tr>\n",
       "      <td>2015-01-01</td>\n",
       "      <td>0.000000</td>\n",
       "      <td>0.000000</td>\n",
       "      <td>-0.086784</td>\n",
       "      <td>0.437715</td>\n",
       "      <td>1</td>\n",
       "    </tr>\n",
       "    <tr>\n",
       "      <td>2015-01-02</td>\n",
       "      <td>0.000845</td>\n",
       "      <td>-0.895524</td>\n",
       "      <td>-0.175462</td>\n",
       "      <td>-0.145002</td>\n",
       "      <td>2</td>\n",
       "    </tr>\n",
       "    <tr>\n",
       "      <td>2015-01-03</td>\n",
       "      <td>0.797813</td>\n",
       "      <td>-1.397892</td>\n",
       "      <td>1.773624</td>\n",
       "      <td>-0.569873</td>\n",
       "      <td>3</td>\n",
       "    </tr>\n",
       "    <tr>\n",
       "      <td>2015-01-04</td>\n",
       "      <td>-0.832057</td>\n",
       "      <td>-0.107309</td>\n",
       "      <td>0.539165</td>\n",
       "      <td>0.166025</td>\n",
       "      <td>4</td>\n",
       "    </tr>\n",
       "    <tr>\n",
       "      <td>2015-01-05</td>\n",
       "      <td>0.146565</td>\n",
       "      <td>-0.920169</td>\n",
       "      <td>-1.132986</td>\n",
       "      <td>-0.084363</td>\n",
       "      <td>5</td>\n",
       "    </tr>\n",
       "    <tr>\n",
       "      <td>2015-01-06</td>\n",
       "      <td>0.057463</td>\n",
       "      <td>-0.211505</td>\n",
       "      <td>0.399993</td>\n",
       "      <td>-0.970626</td>\n",
       "      <td>6</td>\n",
       "    </tr>\n",
       "  </tbody>\n",
       "</table>\n",
       "</div>"
      ],
      "text/plain": [
       "                   A         B         C         D  F\n",
       "2015-01-01  0.000000  0.000000 -0.086784  0.437715  1\n",
       "2015-01-02  0.000845 -0.895524 -0.175462 -0.145002  2\n",
       "2015-01-03  0.797813 -1.397892  1.773624 -0.569873  3\n",
       "2015-01-04 -0.832057 -0.107309  0.539165  0.166025  4\n",
       "2015-01-05  0.146565 -0.920169 -1.132986 -0.084363  5\n",
       "2015-01-06  0.057463 -0.211505  0.399993 -0.970626  6"
      ]
     },
     "execution_count": 107,
     "metadata": {},
     "output_type": "execute_result"
    }
   ],
   "source": [
    "df2.iat[0,1] = 0\n",
    "df2"
   ]
  },
  {
   "cell_type": "markdown",
   "metadata": {},
   "source": [
    "按Numpy数组赋值："
   ]
  },
  {
   "cell_type": "code",
   "execution_count": 109,
   "metadata": {},
   "outputs": [
    {
     "data": {
      "text/html": [
       "<div>\n",
       "<style scoped>\n",
       "    .dataframe tbody tr th:only-of-type {\n",
       "        vertical-align: middle;\n",
       "    }\n",
       "\n",
       "    .dataframe tbody tr th {\n",
       "        vertical-align: top;\n",
       "    }\n",
       "\n",
       "    .dataframe thead th {\n",
       "        text-align: right;\n",
       "    }\n",
       "</style>\n",
       "<table border=\"1\" class=\"dataframe\">\n",
       "  <thead>\n",
       "    <tr style=\"text-align: right;\">\n",
       "      <th></th>\n",
       "      <th>A</th>\n",
       "      <th>B</th>\n",
       "      <th>C</th>\n",
       "      <th>D</th>\n",
       "      <th>F</th>\n",
       "    </tr>\n",
       "  </thead>\n",
       "  <tbody>\n",
       "    <tr>\n",
       "      <td>2015-01-01</td>\n",
       "      <td>0.000000</td>\n",
       "      <td>0.000000</td>\n",
       "      <td>-0.086784</td>\n",
       "      <td>5</td>\n",
       "      <td>1</td>\n",
       "    </tr>\n",
       "    <tr>\n",
       "      <td>2015-01-02</td>\n",
       "      <td>0.000845</td>\n",
       "      <td>-0.895524</td>\n",
       "      <td>-0.175462</td>\n",
       "      <td>5</td>\n",
       "      <td>2</td>\n",
       "    </tr>\n",
       "    <tr>\n",
       "      <td>2015-01-03</td>\n",
       "      <td>0.797813</td>\n",
       "      <td>-1.397892</td>\n",
       "      <td>1.773624</td>\n",
       "      <td>5</td>\n",
       "      <td>3</td>\n",
       "    </tr>\n",
       "    <tr>\n",
       "      <td>2015-01-04</td>\n",
       "      <td>-0.832057</td>\n",
       "      <td>-0.107309</td>\n",
       "      <td>0.539165</td>\n",
       "      <td>5</td>\n",
       "      <td>4</td>\n",
       "    </tr>\n",
       "    <tr>\n",
       "      <td>2015-01-05</td>\n",
       "      <td>0.146565</td>\n",
       "      <td>-0.920169</td>\n",
       "      <td>-1.132986</td>\n",
       "      <td>5</td>\n",
       "      <td>5</td>\n",
       "    </tr>\n",
       "    <tr>\n",
       "      <td>2015-01-06</td>\n",
       "      <td>0.057463</td>\n",
       "      <td>-0.211505</td>\n",
       "      <td>0.399993</td>\n",
       "      <td>5</td>\n",
       "      <td>6</td>\n",
       "    </tr>\n",
       "  </tbody>\n",
       "</table>\n",
       "</div>"
      ],
      "text/plain": [
       "                   A         B         C  D  F\n",
       "2015-01-01  0.000000  0.000000 -0.086784  5  1\n",
       "2015-01-02  0.000845 -0.895524 -0.175462  5  2\n",
       "2015-01-03  0.797813 -1.397892  1.773624  5  3\n",
       "2015-01-04 -0.832057 -0.107309  0.539165  5  4\n",
       "2015-01-05  0.146565 -0.920169 -1.132986  5  5\n",
       "2015-01-06  0.057463 -0.211505  0.399993  5  6"
      ]
     },
     "execution_count": 109,
     "metadata": {},
     "output_type": "execute_result"
    }
   ],
   "source": [
    "df2.loc[:,\"D\"] = np.array([5]* len(df2))\n",
    "df2"
   ]
  },
  {
   "cell_type": "markdown",
   "metadata": {},
   "source": [
    "用`where`条件赋值："
   ]
  },
  {
   "cell_type": "code",
   "execution_count": 110,
   "metadata": {},
   "outputs": [
    {
     "data": {
      "text/html": [
       "<div>\n",
       "<style scoped>\n",
       "    .dataframe tbody tr th:only-of-type {\n",
       "        vertical-align: middle;\n",
       "    }\n",
       "\n",
       "    .dataframe tbody tr th {\n",
       "        vertical-align: top;\n",
       "    }\n",
       "\n",
       "    .dataframe thead th {\n",
       "        text-align: right;\n",
       "    }\n",
       "</style>\n",
       "<table border=\"1\" class=\"dataframe\">\n",
       "  <thead>\n",
       "    <tr style=\"text-align: right;\">\n",
       "      <th></th>\n",
       "      <th>A</th>\n",
       "      <th>B</th>\n",
       "      <th>C</th>\n",
       "      <th>D</th>\n",
       "      <th>F</th>\n",
       "    </tr>\n",
       "  </thead>\n",
       "  <tbody>\n",
       "    <tr>\n",
       "      <td>2015-01-01</td>\n",
       "      <td>0.000000</td>\n",
       "      <td>0.000000</td>\n",
       "      <td>-0.086784</td>\n",
       "      <td>-5</td>\n",
       "      <td>-1</td>\n",
       "    </tr>\n",
       "    <tr>\n",
       "      <td>2015-01-02</td>\n",
       "      <td>-0.000845</td>\n",
       "      <td>-0.895524</td>\n",
       "      <td>-0.175462</td>\n",
       "      <td>-5</td>\n",
       "      <td>-2</td>\n",
       "    </tr>\n",
       "    <tr>\n",
       "      <td>2015-01-03</td>\n",
       "      <td>-0.797813</td>\n",
       "      <td>-1.397892</td>\n",
       "      <td>-1.773624</td>\n",
       "      <td>-5</td>\n",
       "      <td>-3</td>\n",
       "    </tr>\n",
       "    <tr>\n",
       "      <td>2015-01-04</td>\n",
       "      <td>-0.832057</td>\n",
       "      <td>-0.107309</td>\n",
       "      <td>-0.539165</td>\n",
       "      <td>-5</td>\n",
       "      <td>-4</td>\n",
       "    </tr>\n",
       "    <tr>\n",
       "      <td>2015-01-05</td>\n",
       "      <td>-0.146565</td>\n",
       "      <td>-0.920169</td>\n",
       "      <td>-1.132986</td>\n",
       "      <td>-5</td>\n",
       "      <td>-5</td>\n",
       "    </tr>\n",
       "    <tr>\n",
       "      <td>2015-01-06</td>\n",
       "      <td>-0.057463</td>\n",
       "      <td>-0.211505</td>\n",
       "      <td>-0.399993</td>\n",
       "      <td>-5</td>\n",
       "      <td>-6</td>\n",
       "    </tr>\n",
       "  </tbody>\n",
       "</table>\n",
       "</div>"
      ],
      "text/plain": [
       "                   A         B         C  D  F\n",
       "2015-01-01  0.000000  0.000000 -0.086784 -5 -1\n",
       "2015-01-02 -0.000845 -0.895524 -0.175462 -5 -2\n",
       "2015-01-03 -0.797813 -1.397892 -1.773624 -5 -3\n",
       "2015-01-04 -0.832057 -0.107309 -0.539165 -5 -4\n",
       "2015-01-05 -0.146565 -0.920169 -1.132986 -5 -5\n",
       "2015-01-06 -0.057463 -0.211505 -0.399993 -5 -6"
      ]
     },
     "execution_count": 110,
     "metadata": {},
     "output_type": "execute_result"
    }
   ],
   "source": [
    "df5 = df2.copy()\n",
    "df5[df5 > 0] = -df5\n",
    "df5"
   ]
  },
  {
   "cell_type": "markdown",
   "metadata": {},
   "source": [
    "### 缺失值\n",
    "\n",
    "Pandas 主要用 `np.nan` 表示缺失数据。 计算时，默认不包含空值。详见[缺失数据](https://pandas.pydata.org/pandas-docs/stable/user_guide/missing_data.html#missing-data)。\n",
    "\n",
    "重建索引（reindex）可以更改、添加、删除指定轴的索引，并返回数据副本，即不更改原数据。"
   ]
  },
  {
   "cell_type": "code",
   "execution_count": 116,
   "metadata": {},
   "outputs": [
    {
     "data": {
      "text/html": [
       "<div>\n",
       "<style scoped>\n",
       "    .dataframe tbody tr th:only-of-type {\n",
       "        vertical-align: middle;\n",
       "    }\n",
       "\n",
       "    .dataframe tbody tr th {\n",
       "        vertical-align: top;\n",
       "    }\n",
       "\n",
       "    .dataframe thead th {\n",
       "        text-align: right;\n",
       "    }\n",
       "</style>\n",
       "<table border=\"1\" class=\"dataframe\">\n",
       "  <thead>\n",
       "    <tr style=\"text-align: right;\">\n",
       "      <th></th>\n",
       "      <th>A</th>\n",
       "      <th>B</th>\n",
       "      <th>C</th>\n",
       "      <th>D</th>\n",
       "      <th>F</th>\n",
       "      <th>E</th>\n",
       "    </tr>\n",
       "  </thead>\n",
       "  <tbody>\n",
       "    <tr>\n",
       "      <td>2015-01-01</td>\n",
       "      <td>0.000000</td>\n",
       "      <td>0.000000</td>\n",
       "      <td>-0.086784</td>\n",
       "      <td>5</td>\n",
       "      <td>1</td>\n",
       "      <td>1.0</td>\n",
       "    </tr>\n",
       "    <tr>\n",
       "      <td>2015-01-02</td>\n",
       "      <td>0.000845</td>\n",
       "      <td>-0.895524</td>\n",
       "      <td>-0.175462</td>\n",
       "      <td>5</td>\n",
       "      <td>2</td>\n",
       "      <td>1.0</td>\n",
       "    </tr>\n",
       "    <tr>\n",
       "      <td>2015-01-03</td>\n",
       "      <td>0.797813</td>\n",
       "      <td>-1.397892</td>\n",
       "      <td>1.773624</td>\n",
       "      <td>5</td>\n",
       "      <td>3</td>\n",
       "      <td>NaN</td>\n",
       "    </tr>\n",
       "    <tr>\n",
       "      <td>2015-01-04</td>\n",
       "      <td>-0.832057</td>\n",
       "      <td>-0.107309</td>\n",
       "      <td>0.539165</td>\n",
       "      <td>5</td>\n",
       "      <td>4</td>\n",
       "      <td>NaN</td>\n",
       "    </tr>\n",
       "  </tbody>\n",
       "</table>\n",
       "</div>"
      ],
      "text/plain": [
       "                   A         B         C  D  F    E\n",
       "2015-01-01  0.000000  0.000000 -0.086784  5  1  1.0\n",
       "2015-01-02  0.000845 -0.895524 -0.175462  5  2  1.0\n",
       "2015-01-03  0.797813 -1.397892  1.773624  5  3  NaN\n",
       "2015-01-04 -0.832057 -0.107309  0.539165  5  4  NaN"
      ]
     },
     "execution_count": 116,
     "metadata": {},
     "output_type": "execute_result"
    }
   ],
   "source": [
    "df6 = df2.reindex(index=df1[0:4], columns=list(df2.columns) + ['E'])\n",
    "df6.loc[df1[0]:df1[1], 'E'] = 1\n",
    "df6"
   ]
  },
  {
   "cell_type": "markdown",
   "metadata": {},
   "source": [
    "删除所有含缺失值得行："
   ]
  },
  {
   "cell_type": "code",
   "execution_count": 118,
   "metadata": {},
   "outputs": [
    {
     "data": {
      "text/html": [
       "<div>\n",
       "<style scoped>\n",
       "    .dataframe tbody tr th:only-of-type {\n",
       "        vertical-align: middle;\n",
       "    }\n",
       "\n",
       "    .dataframe tbody tr th {\n",
       "        vertical-align: top;\n",
       "    }\n",
       "\n",
       "    .dataframe thead th {\n",
       "        text-align: right;\n",
       "    }\n",
       "</style>\n",
       "<table border=\"1\" class=\"dataframe\">\n",
       "  <thead>\n",
       "    <tr style=\"text-align: right;\">\n",
       "      <th></th>\n",
       "      <th>A</th>\n",
       "      <th>B</th>\n",
       "      <th>C</th>\n",
       "      <th>D</th>\n",
       "      <th>F</th>\n",
       "      <th>E</th>\n",
       "    </tr>\n",
       "  </thead>\n",
       "  <tbody>\n",
       "    <tr>\n",
       "      <td>2015-01-01</td>\n",
       "      <td>0.000000</td>\n",
       "      <td>0.000000</td>\n",
       "      <td>-0.086784</td>\n",
       "      <td>5</td>\n",
       "      <td>1</td>\n",
       "      <td>1.0</td>\n",
       "    </tr>\n",
       "    <tr>\n",
       "      <td>2015-01-02</td>\n",
       "      <td>0.000845</td>\n",
       "      <td>-0.895524</td>\n",
       "      <td>-0.175462</td>\n",
       "      <td>5</td>\n",
       "      <td>2</td>\n",
       "      <td>1.0</td>\n",
       "    </tr>\n",
       "  </tbody>\n",
       "</table>\n",
       "</div>"
      ],
      "text/plain": [
       "                   A         B         C  D  F    E\n",
       "2015-01-01  0.000000  0.000000 -0.086784  5  1  1.0\n",
       "2015-01-02  0.000845 -0.895524 -0.175462  5  2  1.0"
      ]
     },
     "execution_count": 118,
     "metadata": {},
     "output_type": "execute_result"
    }
   ],
   "source": [
    "df6.dropna(how='any')"
   ]
  },
  {
   "cell_type": "markdown",
   "metadata": {},
   "source": [
    "填充缺失值："
   ]
  },
  {
   "cell_type": "code",
   "execution_count": 119,
   "metadata": {},
   "outputs": [
    {
     "data": {
      "text/html": [
       "<div>\n",
       "<style scoped>\n",
       "    .dataframe tbody tr th:only-of-type {\n",
       "        vertical-align: middle;\n",
       "    }\n",
       "\n",
       "    .dataframe tbody tr th {\n",
       "        vertical-align: top;\n",
       "    }\n",
       "\n",
       "    .dataframe thead th {\n",
       "        text-align: right;\n",
       "    }\n",
       "</style>\n",
       "<table border=\"1\" class=\"dataframe\">\n",
       "  <thead>\n",
       "    <tr style=\"text-align: right;\">\n",
       "      <th></th>\n",
       "      <th>A</th>\n",
       "      <th>B</th>\n",
       "      <th>C</th>\n",
       "      <th>D</th>\n",
       "      <th>F</th>\n",
       "      <th>E</th>\n",
       "    </tr>\n",
       "  </thead>\n",
       "  <tbody>\n",
       "    <tr>\n",
       "      <td>2015-01-01</td>\n",
       "      <td>0.000000</td>\n",
       "      <td>0.000000</td>\n",
       "      <td>-0.086784</td>\n",
       "      <td>5</td>\n",
       "      <td>1</td>\n",
       "      <td>1.0</td>\n",
       "    </tr>\n",
       "    <tr>\n",
       "      <td>2015-01-02</td>\n",
       "      <td>0.000845</td>\n",
       "      <td>-0.895524</td>\n",
       "      <td>-0.175462</td>\n",
       "      <td>5</td>\n",
       "      <td>2</td>\n",
       "      <td>1.0</td>\n",
       "    </tr>\n",
       "    <tr>\n",
       "      <td>2015-01-03</td>\n",
       "      <td>0.797813</td>\n",
       "      <td>-1.397892</td>\n",
       "      <td>1.773624</td>\n",
       "      <td>5</td>\n",
       "      <td>3</td>\n",
       "      <td>4.0</td>\n",
       "    </tr>\n",
       "    <tr>\n",
       "      <td>2015-01-04</td>\n",
       "      <td>-0.832057</td>\n",
       "      <td>-0.107309</td>\n",
       "      <td>0.539165</td>\n",
       "      <td>5</td>\n",
       "      <td>4</td>\n",
       "      <td>4.0</td>\n",
       "    </tr>\n",
       "  </tbody>\n",
       "</table>\n",
       "</div>"
      ],
      "text/plain": [
       "                   A         B         C  D  F    E\n",
       "2015-01-01  0.000000  0.000000 -0.086784  5  1  1.0\n",
       "2015-01-02  0.000845 -0.895524 -0.175462  5  2  1.0\n",
       "2015-01-03  0.797813 -1.397892  1.773624  5  3  4.0\n",
       "2015-01-04 -0.832057 -0.107309  0.539165  5  4  4.0"
      ]
     },
     "execution_count": 119,
     "metadata": {},
     "output_type": "execute_result"
    }
   ],
   "source": [
    "df6.fillna(value=4)"
   ]
  },
  {
   "cell_type": "markdown",
   "metadata": {},
   "source": [
    "提取`nan`值得布尔掩码："
   ]
  },
  {
   "cell_type": "code",
   "execution_count": 120,
   "metadata": {},
   "outputs": [
    {
     "data": {
      "text/html": [
       "<div>\n",
       "<style scoped>\n",
       "    .dataframe tbody tr th:only-of-type {\n",
       "        vertical-align: middle;\n",
       "    }\n",
       "\n",
       "    .dataframe tbody tr th {\n",
       "        vertical-align: top;\n",
       "    }\n",
       "\n",
       "    .dataframe thead th {\n",
       "        text-align: right;\n",
       "    }\n",
       "</style>\n",
       "<table border=\"1\" class=\"dataframe\">\n",
       "  <thead>\n",
       "    <tr style=\"text-align: right;\">\n",
       "      <th></th>\n",
       "      <th>A</th>\n",
       "      <th>B</th>\n",
       "      <th>C</th>\n",
       "      <th>D</th>\n",
       "      <th>F</th>\n",
       "      <th>E</th>\n",
       "    </tr>\n",
       "  </thead>\n",
       "  <tbody>\n",
       "    <tr>\n",
       "      <td>2015-01-01</td>\n",
       "      <td>False</td>\n",
       "      <td>False</td>\n",
       "      <td>False</td>\n",
       "      <td>False</td>\n",
       "      <td>False</td>\n",
       "      <td>False</td>\n",
       "    </tr>\n",
       "    <tr>\n",
       "      <td>2015-01-02</td>\n",
       "      <td>False</td>\n",
       "      <td>False</td>\n",
       "      <td>False</td>\n",
       "      <td>False</td>\n",
       "      <td>False</td>\n",
       "      <td>False</td>\n",
       "    </tr>\n",
       "    <tr>\n",
       "      <td>2015-01-03</td>\n",
       "      <td>False</td>\n",
       "      <td>False</td>\n",
       "      <td>False</td>\n",
       "      <td>False</td>\n",
       "      <td>False</td>\n",
       "      <td>True</td>\n",
       "    </tr>\n",
       "    <tr>\n",
       "      <td>2015-01-04</td>\n",
       "      <td>False</td>\n",
       "      <td>False</td>\n",
       "      <td>False</td>\n",
       "      <td>False</td>\n",
       "      <td>False</td>\n",
       "      <td>True</td>\n",
       "    </tr>\n",
       "  </tbody>\n",
       "</table>\n",
       "</div>"
      ],
      "text/plain": [
       "                A      B      C      D      F      E\n",
       "2015-01-01  False  False  False  False  False  False\n",
       "2015-01-02  False  False  False  False  False  False\n",
       "2015-01-03  False  False  False  False  False   True\n",
       "2015-01-04  False  False  False  False  False   True"
      ]
     },
     "execution_count": 120,
     "metadata": {},
     "output_type": "execute_result"
    }
   ],
   "source": [
    "pd.isna(df6)"
   ]
  },
  {
   "cell_type": "markdown",
   "metadata": {},
   "source": [
    "### 运算\n",
    "详见[二进制操作](https://pandas.pydata.org/pandas-docs/stable/getting_started/basics.html#basics-binop)"
   ]
  },
  {
   "cell_type": "markdown",
   "metadata": {},
   "source": [
    "#### 统计\n",
    "\n",
    "一般情况下，运算时排除缺失值。\n",
    "\n",
    "描述性统计："
   ]
  },
  {
   "cell_type": "code",
   "execution_count": 121,
   "metadata": {},
   "outputs": [
    {
     "data": {
      "text/plain": [
       "A    0.028438\n",
       "B   -0.588733\n",
       "C    0.219592\n",
       "D    5.000000\n",
       "F    3.500000\n",
       "dtype: float64"
      ]
     },
     "execution_count": 121,
     "metadata": {},
     "output_type": "execute_result"
    }
   ],
   "source": [
    "df2.mean()"
   ]
  },
  {
   "cell_type": "markdown",
   "metadata": {},
   "source": [
    "在另一个轴(即,行)上执行同样的操作："
   ]
  },
  {
   "cell_type": "code",
   "execution_count": 122,
   "metadata": {},
   "outputs": [
    {
     "data": {
      "text/plain": [
       "2015-01-01    1.182643\n",
       "2015-01-02    1.185972\n",
       "2015-01-03    1.834709\n",
       "2015-01-04    1.719960\n",
       "2015-01-05    1.618682\n",
       "2015-01-06    2.249190\n",
       "Freq: D, dtype: float64"
      ]
     },
     "execution_count": 122,
     "metadata": {},
     "output_type": "execute_result"
    }
   ],
   "source": [
    "df2.mean(1)"
   ]
  },
  {
   "cell_type": "markdown",
   "metadata": {},
   "source": [
    "不同维度对象运算时，要先对齐。此外，Pandas自动沿指定维度广播。"
   ]
  },
  {
   "cell_type": "code",
   "execution_count": 125,
   "metadata": {},
   "outputs": [
    {
     "data": {
      "text/plain": [
       "2015-01-01    NaN\n",
       "2015-01-02    NaN\n",
       "2015-01-03    1.0\n",
       "2015-01-04    3.0\n",
       "2015-01-05    5.0\n",
       "2015-01-06    NaN\n",
       "Freq: D, dtype: float64"
      ]
     },
     "execution_count": 125,
     "metadata": {},
     "output_type": "execute_result"
    }
   ],
   "source": [
    "s2 = pd.Series([1,3,5, np.nan, 6, 8], index=df1).shift(2)\n",
    "s2"
   ]
  },
  {
   "cell_type": "code",
   "execution_count": 126,
   "metadata": {},
   "outputs": [
    {
     "data": {
      "text/html": [
       "<div>\n",
       "<style scoped>\n",
       "    .dataframe tbody tr th:only-of-type {\n",
       "        vertical-align: middle;\n",
       "    }\n",
       "\n",
       "    .dataframe tbody tr th {\n",
       "        vertical-align: top;\n",
       "    }\n",
       "\n",
       "    .dataframe thead th {\n",
       "        text-align: right;\n",
       "    }\n",
       "</style>\n",
       "<table border=\"1\" class=\"dataframe\">\n",
       "  <thead>\n",
       "    <tr style=\"text-align: right;\">\n",
       "      <th></th>\n",
       "      <th>A</th>\n",
       "      <th>B</th>\n",
       "      <th>C</th>\n",
       "      <th>D</th>\n",
       "      <th>F</th>\n",
       "    </tr>\n",
       "  </thead>\n",
       "  <tbody>\n",
       "    <tr>\n",
       "      <td>2015-01-01</td>\n",
       "      <td>NaN</td>\n",
       "      <td>NaN</td>\n",
       "      <td>NaN</td>\n",
       "      <td>NaN</td>\n",
       "      <td>NaN</td>\n",
       "    </tr>\n",
       "    <tr>\n",
       "      <td>2015-01-02</td>\n",
       "      <td>NaN</td>\n",
       "      <td>NaN</td>\n",
       "      <td>NaN</td>\n",
       "      <td>NaN</td>\n",
       "      <td>NaN</td>\n",
       "    </tr>\n",
       "    <tr>\n",
       "      <td>2015-01-03</td>\n",
       "      <td>-0.202187</td>\n",
       "      <td>-2.397892</td>\n",
       "      <td>0.773624</td>\n",
       "      <td>4.0</td>\n",
       "      <td>2.0</td>\n",
       "    </tr>\n",
       "    <tr>\n",
       "      <td>2015-01-04</td>\n",
       "      <td>-3.832057</td>\n",
       "      <td>-3.107309</td>\n",
       "      <td>-2.460835</td>\n",
       "      <td>2.0</td>\n",
       "      <td>1.0</td>\n",
       "    </tr>\n",
       "    <tr>\n",
       "      <td>2015-01-05</td>\n",
       "      <td>-4.853435</td>\n",
       "      <td>-5.920169</td>\n",
       "      <td>-6.132986</td>\n",
       "      <td>0.0</td>\n",
       "      <td>0.0</td>\n",
       "    </tr>\n",
       "    <tr>\n",
       "      <td>2015-01-06</td>\n",
       "      <td>NaN</td>\n",
       "      <td>NaN</td>\n",
       "      <td>NaN</td>\n",
       "      <td>NaN</td>\n",
       "      <td>NaN</td>\n",
       "    </tr>\n",
       "  </tbody>\n",
       "</table>\n",
       "</div>"
      ],
      "text/plain": [
       "                   A         B         C    D    F\n",
       "2015-01-01       NaN       NaN       NaN  NaN  NaN\n",
       "2015-01-02       NaN       NaN       NaN  NaN  NaN\n",
       "2015-01-03 -0.202187 -2.397892  0.773624  4.0  2.0\n",
       "2015-01-04 -3.832057 -3.107309 -2.460835  2.0  1.0\n",
       "2015-01-05 -4.853435 -5.920169 -6.132986  0.0  0.0\n",
       "2015-01-06       NaN       NaN       NaN  NaN  NaN"
      ]
     },
     "execution_count": 126,
     "metadata": {},
     "output_type": "execute_result"
    }
   ],
   "source": [
    "df2.sub(s2, axis='index')"
   ]
  },
  {
   "cell_type": "markdown",
   "metadata": {},
   "source": [
    "#### Apply函数\n",
    "\n",
    "Apply函数处理数据"
   ]
  },
  {
   "cell_type": "code",
   "execution_count": 128,
   "metadata": {},
   "outputs": [
    {
     "data": {
      "text/html": [
       "<div>\n",
       "<style scoped>\n",
       "    .dataframe tbody tr th:only-of-type {\n",
       "        vertical-align: middle;\n",
       "    }\n",
       "\n",
       "    .dataframe tbody tr th {\n",
       "        vertical-align: top;\n",
       "    }\n",
       "\n",
       "    .dataframe thead th {\n",
       "        text-align: right;\n",
       "    }\n",
       "</style>\n",
       "<table border=\"1\" class=\"dataframe\">\n",
       "  <thead>\n",
       "    <tr style=\"text-align: right;\">\n",
       "      <th></th>\n",
       "      <th>A</th>\n",
       "      <th>B</th>\n",
       "      <th>C</th>\n",
       "      <th>D</th>\n",
       "      <th>F</th>\n",
       "    </tr>\n",
       "  </thead>\n",
       "  <tbody>\n",
       "    <tr>\n",
       "      <td>2015-01-01</td>\n",
       "      <td>0.000000</td>\n",
       "      <td>0.000000</td>\n",
       "      <td>-0.086784</td>\n",
       "      <td>5</td>\n",
       "      <td>1</td>\n",
       "    </tr>\n",
       "    <tr>\n",
       "      <td>2015-01-02</td>\n",
       "      <td>0.000845</td>\n",
       "      <td>-0.895524</td>\n",
       "      <td>-0.262246</td>\n",
       "      <td>10</td>\n",
       "      <td>3</td>\n",
       "    </tr>\n",
       "    <tr>\n",
       "      <td>2015-01-03</td>\n",
       "      <td>0.798658</td>\n",
       "      <td>-2.293416</td>\n",
       "      <td>1.511378</td>\n",
       "      <td>15</td>\n",
       "      <td>6</td>\n",
       "    </tr>\n",
       "    <tr>\n",
       "      <td>2015-01-04</td>\n",
       "      <td>-0.033400</td>\n",
       "      <td>-2.400725</td>\n",
       "      <td>2.050543</td>\n",
       "      <td>20</td>\n",
       "      <td>10</td>\n",
       "    </tr>\n",
       "    <tr>\n",
       "      <td>2015-01-05</td>\n",
       "      <td>0.113166</td>\n",
       "      <td>-3.320894</td>\n",
       "      <td>0.917557</td>\n",
       "      <td>25</td>\n",
       "      <td>15</td>\n",
       "    </tr>\n",
       "    <tr>\n",
       "      <td>2015-01-06</td>\n",
       "      <td>0.170628</td>\n",
       "      <td>-3.532400</td>\n",
       "      <td>1.317550</td>\n",
       "      <td>30</td>\n",
       "      <td>21</td>\n",
       "    </tr>\n",
       "  </tbody>\n",
       "</table>\n",
       "</div>"
      ],
      "text/plain": [
       "                   A         B         C   D   F\n",
       "2015-01-01  0.000000  0.000000 -0.086784   5   1\n",
       "2015-01-02  0.000845 -0.895524 -0.262246  10   3\n",
       "2015-01-03  0.798658 -2.293416  1.511378  15   6\n",
       "2015-01-04 -0.033400 -2.400725  2.050543  20  10\n",
       "2015-01-05  0.113166 -3.320894  0.917557  25  15\n",
       "2015-01-06  0.170628 -3.532400  1.317550  30  21"
      ]
     },
     "execution_count": 128,
     "metadata": {},
     "output_type": "execute_result"
    }
   ],
   "source": [
    "df2.apply(np.cumsum)"
   ]
  },
  {
   "cell_type": "code",
   "execution_count": 130,
   "metadata": {},
   "outputs": [
    {
     "data": {
      "text/plain": [
       "A    1.629870\n",
       "B    1.397892\n",
       "C    2.906610\n",
       "D    0.000000\n",
       "F    5.000000\n",
       "dtype: float64"
      ]
     },
     "execution_count": 130,
     "metadata": {},
     "output_type": "execute_result"
    }
   ],
   "source": [
    "df2.apply(lambda x: x.max() - x.min())"
   ]
  },
  {
   "cell_type": "markdown",
   "metadata": {},
   "source": [
    "#### 直方图\n",
    "\n",
    "详见[直方图与离散化](https://pandas.pydata.org/pandas-docs/stable/getting_started/basics.html#basics-discretization)。"
   ]
  },
  {
   "cell_type": "code",
   "execution_count": 133,
   "metadata": {},
   "outputs": [
    {
     "data": {
      "text/plain": [
       "0    5\n",
       "1    1\n",
       "2    0\n",
       "3    2\n",
       "4    4\n",
       "5    6\n",
       "6    6\n",
       "7    0\n",
       "8    2\n",
       "9    1\n",
       "dtype: int32"
      ]
     },
     "execution_count": 133,
     "metadata": {},
     "output_type": "execute_result"
    }
   ],
   "source": [
    "s3 = pd.Series(np.random.randint(0, 7, size=10))\n",
    "s3"
   ]
  },
  {
   "cell_type": "code",
   "execution_count": 134,
   "metadata": {},
   "outputs": [
    {
     "data": {
      "text/plain": [
       "6    2\n",
       "2    2\n",
       "1    2\n",
       "0    2\n",
       "5    1\n",
       "4    1\n",
       "dtype: int64"
      ]
     },
     "execution_count": 134,
     "metadata": {},
     "output_type": "execute_result"
    }
   ],
   "source": [
    "s3.value_counts()"
   ]
  },
  {
   "cell_type": "markdown",
   "metadata": {},
   "source": [
    "#### 字符串方法\n",
    "\n",
    "Series 的 `str` 属性包含一组字符串处理功能，如下列代码所示。注意，`str` 的模式匹配默认使用[正则表达式](https://docs.python.org/3/library/re.html)。详见[矢量字符串方法](https://pandas.pydata.org/pandas-docs/stable/user_guide/text.html#text-string-methods)。"
   ]
  },
  {
   "cell_type": "code",
   "execution_count": 137,
   "metadata": {},
   "outputs": [
    {
     "data": {
      "text/plain": [
       "0       a\n",
       "1       b\n",
       "2       c\n",
       "3    aaba\n",
       "4    baca\n",
       "5     NaN\n",
       "6    caba\n",
       "7     dog\n",
       "8     cat\n",
       "dtype: object"
      ]
     },
     "execution_count": 137,
     "metadata": {},
     "output_type": "execute_result"
    }
   ],
   "source": [
    "s4 = pd.Series(['A','B', 'C', 'Aaba','Baca', np.nan, 'CABA', 'dog', 'cat'])\n",
    "s4.str.lower()"
   ]
  },
  {
   "cell_type": "markdown",
   "metadata": {},
   "source": [
    "### 合并（Merge）\n",
    "\n",
    "#### 结合（Concat）\n",
    "Pandas 提供了多种将 Series、DataFrame 对象组合在一起的功能，用索引与关联代数功能的多种设置逻辑可执行连接（join）与合并（merge）操作。\n",
    "\n",
    "详见[合并](https://pandas.pydata.org/pandas-docs/stable/user_guide/merging.html#merging)。\n",
    "\n",
    "`concat()` 用于连接 Pandas 对象："
   ]
  },
  {
   "cell_type": "code",
   "execution_count": 141,
   "metadata": {},
   "outputs": [
    {
     "data": {
      "text/html": [
       "<div>\n",
       "<style scoped>\n",
       "    .dataframe tbody tr th:only-of-type {\n",
       "        vertical-align: middle;\n",
       "    }\n",
       "\n",
       "    .dataframe tbody tr th {\n",
       "        vertical-align: top;\n",
       "    }\n",
       "\n",
       "    .dataframe thead th {\n",
       "        text-align: right;\n",
       "    }\n",
       "</style>\n",
       "<table border=\"1\" class=\"dataframe\">\n",
       "  <thead>\n",
       "    <tr style=\"text-align: right;\">\n",
       "      <th></th>\n",
       "      <th>0</th>\n",
       "      <th>1</th>\n",
       "      <th>2</th>\n",
       "      <th>3</th>\n",
       "    </tr>\n",
       "  </thead>\n",
       "  <tbody>\n",
       "    <tr>\n",
       "      <td>0</td>\n",
       "      <td>-1.296076</td>\n",
       "      <td>0.294882</td>\n",
       "      <td>-0.632433</td>\n",
       "      <td>-0.561483</td>\n",
       "    </tr>\n",
       "    <tr>\n",
       "      <td>1</td>\n",
       "      <td>-0.025625</td>\n",
       "      <td>-0.082323</td>\n",
       "      <td>0.421752</td>\n",
       "      <td>-0.055686</td>\n",
       "    </tr>\n",
       "    <tr>\n",
       "      <td>2</td>\n",
       "      <td>0.083312</td>\n",
       "      <td>1.422946</td>\n",
       "      <td>-0.369731</td>\n",
       "      <td>-1.302350</td>\n",
       "    </tr>\n",
       "    <tr>\n",
       "      <td>3</td>\n",
       "      <td>1.395324</td>\n",
       "      <td>0.387450</td>\n",
       "      <td>0.309097</td>\n",
       "      <td>-0.438859</td>\n",
       "    </tr>\n",
       "    <tr>\n",
       "      <td>4</td>\n",
       "      <td>1.040691</td>\n",
       "      <td>0.220567</td>\n",
       "      <td>0.257021</td>\n",
       "      <td>0.734074</td>\n",
       "    </tr>\n",
       "    <tr>\n",
       "      <td>5</td>\n",
       "      <td>-0.050505</td>\n",
       "      <td>-0.754979</td>\n",
       "      <td>0.401254</td>\n",
       "      <td>1.768321</td>\n",
       "    </tr>\n",
       "    <tr>\n",
       "      <td>6</td>\n",
       "      <td>-0.559591</td>\n",
       "      <td>-0.564520</td>\n",
       "      <td>-0.667834</td>\n",
       "      <td>0.657654</td>\n",
       "    </tr>\n",
       "    <tr>\n",
       "      <td>7</td>\n",
       "      <td>-0.986849</td>\n",
       "      <td>2.273356</td>\n",
       "      <td>0.665441</td>\n",
       "      <td>-1.051597</td>\n",
       "    </tr>\n",
       "    <tr>\n",
       "      <td>8</td>\n",
       "      <td>1.398413</td>\n",
       "      <td>0.339848</td>\n",
       "      <td>-0.372046</td>\n",
       "      <td>-0.196928</td>\n",
       "    </tr>\n",
       "    <tr>\n",
       "      <td>9</td>\n",
       "      <td>-0.033368</td>\n",
       "      <td>0.557387</td>\n",
       "      <td>-2.104741</td>\n",
       "      <td>0.372245</td>\n",
       "    </tr>\n",
       "  </tbody>\n",
       "</table>\n",
       "</div>"
      ],
      "text/plain": [
       "          0         1         2         3\n",
       "0 -1.296076  0.294882 -0.632433 -0.561483\n",
       "1 -0.025625 -0.082323  0.421752 -0.055686\n",
       "2  0.083312  1.422946 -0.369731 -1.302350\n",
       "3  1.395324  0.387450  0.309097 -0.438859\n",
       "4  1.040691  0.220567  0.257021  0.734074\n",
       "5 -0.050505 -0.754979  0.401254  1.768321\n",
       "6 -0.559591 -0.564520 -0.667834  0.657654\n",
       "7 -0.986849  2.273356  0.665441 -1.051597\n",
       "8  1.398413  0.339848 -0.372046 -0.196928\n",
       "9 -0.033368  0.557387 -2.104741  0.372245"
      ]
     },
     "execution_count": 141,
     "metadata": {},
     "output_type": "execute_result"
    }
   ],
   "source": [
    "df7 = pd.DataFrame(np.random.randn(10, 4))\n",
    "df7"
   ]
  },
  {
   "cell_type": "code",
   "execution_count": 143,
   "metadata": {},
   "outputs": [
    {
     "data": {
      "text/html": [
       "<div>\n",
       "<style scoped>\n",
       "    .dataframe tbody tr th:only-of-type {\n",
       "        vertical-align: middle;\n",
       "    }\n",
       "\n",
       "    .dataframe tbody tr th {\n",
       "        vertical-align: top;\n",
       "    }\n",
       "\n",
       "    .dataframe thead th {\n",
       "        text-align: right;\n",
       "    }\n",
       "</style>\n",
       "<table border=\"1\" class=\"dataframe\">\n",
       "  <thead>\n",
       "    <tr style=\"text-align: right;\">\n",
       "      <th></th>\n",
       "      <th>0</th>\n",
       "      <th>1</th>\n",
       "      <th>2</th>\n",
       "      <th>3</th>\n",
       "    </tr>\n",
       "  </thead>\n",
       "  <tbody>\n",
       "    <tr>\n",
       "      <td>0</td>\n",
       "      <td>-1.296076</td>\n",
       "      <td>0.294882</td>\n",
       "      <td>-0.632433</td>\n",
       "      <td>-0.561483</td>\n",
       "    </tr>\n",
       "    <tr>\n",
       "      <td>1</td>\n",
       "      <td>-0.025625</td>\n",
       "      <td>-0.082323</td>\n",
       "      <td>0.421752</td>\n",
       "      <td>-0.055686</td>\n",
       "    </tr>\n",
       "    <tr>\n",
       "      <td>2</td>\n",
       "      <td>0.083312</td>\n",
       "      <td>1.422946</td>\n",
       "      <td>-0.369731</td>\n",
       "      <td>-1.302350</td>\n",
       "    </tr>\n",
       "    <tr>\n",
       "      <td>3</td>\n",
       "      <td>1.395324</td>\n",
       "      <td>0.387450</td>\n",
       "      <td>0.309097</td>\n",
       "      <td>-0.438859</td>\n",
       "    </tr>\n",
       "    <tr>\n",
       "      <td>4</td>\n",
       "      <td>1.040691</td>\n",
       "      <td>0.220567</td>\n",
       "      <td>0.257021</td>\n",
       "      <td>0.734074</td>\n",
       "    </tr>\n",
       "    <tr>\n",
       "      <td>5</td>\n",
       "      <td>-0.050505</td>\n",
       "      <td>-0.754979</td>\n",
       "      <td>0.401254</td>\n",
       "      <td>1.768321</td>\n",
       "    </tr>\n",
       "    <tr>\n",
       "      <td>6</td>\n",
       "      <td>-0.559591</td>\n",
       "      <td>-0.564520</td>\n",
       "      <td>-0.667834</td>\n",
       "      <td>0.657654</td>\n",
       "    </tr>\n",
       "    <tr>\n",
       "      <td>7</td>\n",
       "      <td>-0.986849</td>\n",
       "      <td>2.273356</td>\n",
       "      <td>0.665441</td>\n",
       "      <td>-1.051597</td>\n",
       "    </tr>\n",
       "    <tr>\n",
       "      <td>8</td>\n",
       "      <td>1.398413</td>\n",
       "      <td>0.339848</td>\n",
       "      <td>-0.372046</td>\n",
       "      <td>-0.196928</td>\n",
       "    </tr>\n",
       "    <tr>\n",
       "      <td>9</td>\n",
       "      <td>-0.033368</td>\n",
       "      <td>0.557387</td>\n",
       "      <td>-2.104741</td>\n",
       "      <td>0.372245</td>\n",
       "    </tr>\n",
       "  </tbody>\n",
       "</table>\n",
       "</div>"
      ],
      "text/plain": [
       "          0         1         2         3\n",
       "0 -1.296076  0.294882 -0.632433 -0.561483\n",
       "1 -0.025625 -0.082323  0.421752 -0.055686\n",
       "2  0.083312  1.422946 -0.369731 -1.302350\n",
       "3  1.395324  0.387450  0.309097 -0.438859\n",
       "4  1.040691  0.220567  0.257021  0.734074\n",
       "5 -0.050505 -0.754979  0.401254  1.768321\n",
       "6 -0.559591 -0.564520 -0.667834  0.657654\n",
       "7 -0.986849  2.273356  0.665441 -1.051597\n",
       "8  1.398413  0.339848 -0.372046 -0.196928\n",
       "9 -0.033368  0.557387 -2.104741  0.372245"
      ]
     },
     "execution_count": 143,
     "metadata": {},
     "output_type": "execute_result"
    }
   ],
   "source": [
    "# 分解为多组\n",
    "pieces = [df7[:3], df7[3:7],df7[7:]]\n",
    "pd.concat(pieces)"
   ]
  },
  {
   "cell_type": "markdown",
   "metadata": {},
   "source": [
    "#### 连接（join）\n",
    "\n",
    "SQL 风格的合并。 详见[数据库风格连接](https://pandas.pydata.org/pandas-docs/stable/user_guide/merging.html#merging-join)。"
   ]
  },
  {
   "cell_type": "code",
   "execution_count": 150,
   "metadata": {},
   "outputs": [
    {
     "name": "stdout",
     "output_type": "stream",
     "text": [
      "   key  lval\n",
      "0  foo     1\n",
      "1  foo     2\n",
      "-------------------\n",
      "   key  rval\n",
      "0  foo     4\n",
      "1  foo     5\n"
     ]
    }
   ],
   "source": [
    "left = pd.DataFrame({'key': ['foo', 'foo'], 'lval': [1,2]})\n",
    "right = pd.DataFrame({'key': ['foo', 'foo'], 'rval': [4,5]})\n",
    "print(left)\n",
    "print('-------------------')\n",
    "print(right)"
   ]
  },
  {
   "cell_type": "code",
   "execution_count": 151,
   "metadata": {},
   "outputs": [
    {
     "data": {
      "text/html": [
       "<div>\n",
       "<style scoped>\n",
       "    .dataframe tbody tr th:only-of-type {\n",
       "        vertical-align: middle;\n",
       "    }\n",
       "\n",
       "    .dataframe tbody tr th {\n",
       "        vertical-align: top;\n",
       "    }\n",
       "\n",
       "    .dataframe thead th {\n",
       "        text-align: right;\n",
       "    }\n",
       "</style>\n",
       "<table border=\"1\" class=\"dataframe\">\n",
       "  <thead>\n",
       "    <tr style=\"text-align: right;\">\n",
       "      <th></th>\n",
       "      <th>key</th>\n",
       "      <th>lval</th>\n",
       "      <th>rval</th>\n",
       "    </tr>\n",
       "  </thead>\n",
       "  <tbody>\n",
       "    <tr>\n",
       "      <td>0</td>\n",
       "      <td>foo</td>\n",
       "      <td>1</td>\n",
       "      <td>4</td>\n",
       "    </tr>\n",
       "    <tr>\n",
       "      <td>1</td>\n",
       "      <td>foo</td>\n",
       "      <td>1</td>\n",
       "      <td>5</td>\n",
       "    </tr>\n",
       "    <tr>\n",
       "      <td>2</td>\n",
       "      <td>foo</td>\n",
       "      <td>2</td>\n",
       "      <td>4</td>\n",
       "    </tr>\n",
       "    <tr>\n",
       "      <td>3</td>\n",
       "      <td>foo</td>\n",
       "      <td>2</td>\n",
       "      <td>5</td>\n",
       "    </tr>\n",
       "  </tbody>\n",
       "</table>\n",
       "</div>"
      ],
      "text/plain": [
       "   key  lval  rval\n",
       "0  foo     1     4\n",
       "1  foo     1     5\n",
       "2  foo     2     4\n",
       "3  foo     2     5"
      ]
     },
     "execution_count": 151,
     "metadata": {},
     "output_type": "execute_result"
    }
   ],
   "source": [
    "pd.merge(left, right, on='key')"
   ]
  },
  {
   "cell_type": "markdown",
   "metadata": {},
   "source": [
    "还有一个例子："
   ]
  },
  {
   "cell_type": "code",
   "execution_count": 152,
   "metadata": {},
   "outputs": [
    {
     "name": "stdout",
     "output_type": "stream",
     "text": [
      "   key  lval\n",
      "0  foo     1\n",
      "1  bar     2\n",
      "-------------------\n",
      "   key  rval\n",
      "0  foo     4\n",
      "1  bar     5\n"
     ]
    }
   ],
   "source": [
    "left = pd.DataFrame({'key': ['foo', 'bar'], 'lval': [1,2]})\n",
    "right = pd.DataFrame({'key': ['foo', 'bar'], 'rval': [4,5]})\n",
    "print(left)\n",
    "print('-------------------')\n",
    "print(right)"
   ]
  },
  {
   "cell_type": "code",
   "execution_count": 153,
   "metadata": {},
   "outputs": [
    {
     "data": {
      "text/html": [
       "<div>\n",
       "<style scoped>\n",
       "    .dataframe tbody tr th:only-of-type {\n",
       "        vertical-align: middle;\n",
       "    }\n",
       "\n",
       "    .dataframe tbody tr th {\n",
       "        vertical-align: top;\n",
       "    }\n",
       "\n",
       "    .dataframe thead th {\n",
       "        text-align: right;\n",
       "    }\n",
       "</style>\n",
       "<table border=\"1\" class=\"dataframe\">\n",
       "  <thead>\n",
       "    <tr style=\"text-align: right;\">\n",
       "      <th></th>\n",
       "      <th>key</th>\n",
       "      <th>lval</th>\n",
       "      <th>rval</th>\n",
       "    </tr>\n",
       "  </thead>\n",
       "  <tbody>\n",
       "    <tr>\n",
       "      <td>0</td>\n",
       "      <td>foo</td>\n",
       "      <td>1</td>\n",
       "      <td>4</td>\n",
       "    </tr>\n",
       "    <tr>\n",
       "      <td>1</td>\n",
       "      <td>bar</td>\n",
       "      <td>2</td>\n",
       "      <td>5</td>\n",
       "    </tr>\n",
       "  </tbody>\n",
       "</table>\n",
       "</div>"
      ],
      "text/plain": [
       "   key  lval  rval\n",
       "0  foo     1     4\n",
       "1  bar     2     5"
      ]
     },
     "execution_count": 153,
     "metadata": {},
     "output_type": "execute_result"
    }
   ],
   "source": [
    "pd.merge(left, right, on='key')"
   ]
  },
  {
   "cell_type": "markdown",
   "metadata": {},
   "source": [
    "#### 追加（Append）\n",
    "\n",
    "为 DataFrame 追加行。详见[追加](https://pandas.pydata.org/pandas-docs/stable/user_guide/merging.html#merging-concatenation)文档。"
   ]
  },
  {
   "cell_type": "code",
   "execution_count": 154,
   "metadata": {},
   "outputs": [
    {
     "data": {
      "text/html": [
       "<div>\n",
       "<style scoped>\n",
       "    .dataframe tbody tr th:only-of-type {\n",
       "        vertical-align: middle;\n",
       "    }\n",
       "\n",
       "    .dataframe tbody tr th {\n",
       "        vertical-align: top;\n",
       "    }\n",
       "\n",
       "    .dataframe thead th {\n",
       "        text-align: right;\n",
       "    }\n",
       "</style>\n",
       "<table border=\"1\" class=\"dataframe\">\n",
       "  <thead>\n",
       "    <tr style=\"text-align: right;\">\n",
       "      <th></th>\n",
       "      <th>A</th>\n",
       "      <th>B</th>\n",
       "      <th>C</th>\n",
       "      <th>D</th>\n",
       "    </tr>\n",
       "  </thead>\n",
       "  <tbody>\n",
       "    <tr>\n",
       "      <td>0</td>\n",
       "      <td>0.417606</td>\n",
       "      <td>1.152513</td>\n",
       "      <td>-0.993736</td>\n",
       "      <td>-0.762617</td>\n",
       "    </tr>\n",
       "    <tr>\n",
       "      <td>1</td>\n",
       "      <td>0.238766</td>\n",
       "      <td>-1.787532</td>\n",
       "      <td>-0.244937</td>\n",
       "      <td>1.351114</td>\n",
       "    </tr>\n",
       "    <tr>\n",
       "      <td>2</td>\n",
       "      <td>-1.563460</td>\n",
       "      <td>1.167297</td>\n",
       "      <td>-0.695212</td>\n",
       "      <td>1.748017</td>\n",
       "    </tr>\n",
       "    <tr>\n",
       "      <td>3</td>\n",
       "      <td>2.898314</td>\n",
       "      <td>0.341063</td>\n",
       "      <td>1.119913</td>\n",
       "      <td>0.010300</td>\n",
       "    </tr>\n",
       "    <tr>\n",
       "      <td>4</td>\n",
       "      <td>-0.185712</td>\n",
       "      <td>1.275648</td>\n",
       "      <td>0.862067</td>\n",
       "      <td>-0.353386</td>\n",
       "    </tr>\n",
       "    <tr>\n",
       "      <td>5</td>\n",
       "      <td>0.382568</td>\n",
       "      <td>-1.903187</td>\n",
       "      <td>0.388535</td>\n",
       "      <td>0.783452</td>\n",
       "    </tr>\n",
       "    <tr>\n",
       "      <td>6</td>\n",
       "      <td>1.254587</td>\n",
       "      <td>0.169247</td>\n",
       "      <td>0.766574</td>\n",
       "      <td>0.750564</td>\n",
       "    </tr>\n",
       "    <tr>\n",
       "      <td>7</td>\n",
       "      <td>0.759676</td>\n",
       "      <td>1.701502</td>\n",
       "      <td>-0.598657</td>\n",
       "      <td>0.349115</td>\n",
       "    </tr>\n",
       "  </tbody>\n",
       "</table>\n",
       "</div>"
      ],
      "text/plain": [
       "          A         B         C         D\n",
       "0  0.417606  1.152513 -0.993736 -0.762617\n",
       "1  0.238766 -1.787532 -0.244937  1.351114\n",
       "2 -1.563460  1.167297 -0.695212  1.748017\n",
       "3  2.898314  0.341063  1.119913  0.010300\n",
       "4 -0.185712  1.275648  0.862067 -0.353386\n",
       "5  0.382568 -1.903187  0.388535  0.783452\n",
       "6  1.254587  0.169247  0.766574  0.750564\n",
       "7  0.759676  1.701502 -0.598657  0.349115"
      ]
     },
     "execution_count": 154,
     "metadata": {},
     "output_type": "execute_result"
    }
   ],
   "source": [
    "df = pd.DataFrame(np.random.randn(8, 4), columns=['A', 'B', 'C', 'D'])\n",
    "df"
   ]
  },
  {
   "cell_type": "code",
   "execution_count": 155,
   "metadata": {},
   "outputs": [
    {
     "data": {
      "text/html": [
       "<div>\n",
       "<style scoped>\n",
       "    .dataframe tbody tr th:only-of-type {\n",
       "        vertical-align: middle;\n",
       "    }\n",
       "\n",
       "    .dataframe tbody tr th {\n",
       "        vertical-align: top;\n",
       "    }\n",
       "\n",
       "    .dataframe thead th {\n",
       "        text-align: right;\n",
       "    }\n",
       "</style>\n",
       "<table border=\"1\" class=\"dataframe\">\n",
       "  <thead>\n",
       "    <tr style=\"text-align: right;\">\n",
       "      <th></th>\n",
       "      <th>A</th>\n",
       "      <th>B</th>\n",
       "      <th>C</th>\n",
       "      <th>D</th>\n",
       "    </tr>\n",
       "  </thead>\n",
       "  <tbody>\n",
       "    <tr>\n",
       "      <td>0</td>\n",
       "      <td>0.417606</td>\n",
       "      <td>1.152513</td>\n",
       "      <td>-0.993736</td>\n",
       "      <td>-0.762617</td>\n",
       "    </tr>\n",
       "    <tr>\n",
       "      <td>1</td>\n",
       "      <td>0.238766</td>\n",
       "      <td>-1.787532</td>\n",
       "      <td>-0.244937</td>\n",
       "      <td>1.351114</td>\n",
       "    </tr>\n",
       "    <tr>\n",
       "      <td>2</td>\n",
       "      <td>-1.563460</td>\n",
       "      <td>1.167297</td>\n",
       "      <td>-0.695212</td>\n",
       "      <td>1.748017</td>\n",
       "    </tr>\n",
       "    <tr>\n",
       "      <td>3</td>\n",
       "      <td>2.898314</td>\n",
       "      <td>0.341063</td>\n",
       "      <td>1.119913</td>\n",
       "      <td>0.010300</td>\n",
       "    </tr>\n",
       "    <tr>\n",
       "      <td>4</td>\n",
       "      <td>-0.185712</td>\n",
       "      <td>1.275648</td>\n",
       "      <td>0.862067</td>\n",
       "      <td>-0.353386</td>\n",
       "    </tr>\n",
       "    <tr>\n",
       "      <td>5</td>\n",
       "      <td>0.382568</td>\n",
       "      <td>-1.903187</td>\n",
       "      <td>0.388535</td>\n",
       "      <td>0.783452</td>\n",
       "    </tr>\n",
       "    <tr>\n",
       "      <td>6</td>\n",
       "      <td>1.254587</td>\n",
       "      <td>0.169247</td>\n",
       "      <td>0.766574</td>\n",
       "      <td>0.750564</td>\n",
       "    </tr>\n",
       "    <tr>\n",
       "      <td>7</td>\n",
       "      <td>0.759676</td>\n",
       "      <td>1.701502</td>\n",
       "      <td>-0.598657</td>\n",
       "      <td>0.349115</td>\n",
       "    </tr>\n",
       "    <tr>\n",
       "      <td>8</td>\n",
       "      <td>2.898314</td>\n",
       "      <td>0.341063</td>\n",
       "      <td>1.119913</td>\n",
       "      <td>0.010300</td>\n",
       "    </tr>\n",
       "  </tbody>\n",
       "</table>\n",
       "</div>"
      ],
      "text/plain": [
       "          A         B         C         D\n",
       "0  0.417606  1.152513 -0.993736 -0.762617\n",
       "1  0.238766 -1.787532 -0.244937  1.351114\n",
       "2 -1.563460  1.167297 -0.695212  1.748017\n",
       "3  2.898314  0.341063  1.119913  0.010300\n",
       "4 -0.185712  1.275648  0.862067 -0.353386\n",
       "5  0.382568 -1.903187  0.388535  0.783452\n",
       "6  1.254587  0.169247  0.766574  0.750564\n",
       "7  0.759676  1.701502 -0.598657  0.349115\n",
       "8  2.898314  0.341063  1.119913  0.010300"
      ]
     },
     "execution_count": 155,
     "metadata": {},
     "output_type": "execute_result"
    }
   ],
   "source": [
    "s = df.iloc[3]\n",
    "df.append(s, ignore_index=True)"
   ]
  },
  {
   "cell_type": "code",
   "execution_count": null,
   "metadata": {},
   "outputs": [],
   "source": []
  },
  {
   "cell_type": "code",
   "execution_count": null,
   "metadata": {},
   "outputs": [],
   "source": []
  },
  {
   "cell_type": "code",
   "execution_count": null,
   "metadata": {},
   "outputs": [],
   "source": []
  },
  {
   "cell_type": "code",
   "execution_count": null,
   "metadata": {},
   "outputs": [],
   "source": []
  },
  {
   "cell_type": "code",
   "execution_count": null,
   "metadata": {},
   "outputs": [],
   "source": []
  },
  {
   "cell_type": "code",
   "execution_count": null,
   "metadata": {},
   "outputs": [],
   "source": []
  },
  {
   "cell_type": "code",
   "execution_count": null,
   "metadata": {},
   "outputs": [],
   "source": []
  },
  {
   "cell_type": "code",
   "execution_count": null,
   "metadata": {},
   "outputs": [],
   "source": []
  },
  {
   "cell_type": "code",
   "execution_count": null,
   "metadata": {},
   "outputs": [],
   "source": []
  },
  {
   "cell_type": "code",
   "execution_count": null,
   "metadata": {},
   "outputs": [],
   "source": []
  },
  {
   "cell_type": "code",
   "execution_count": null,
   "metadata": {},
   "outputs": [],
   "source": []
  },
  {
   "cell_type": "code",
   "execution_count": null,
   "metadata": {},
   "outputs": [],
   "source": []
  },
  {
   "cell_type": "code",
   "execution_count": null,
   "metadata": {},
   "outputs": [],
   "source": []
  },
  {
   "cell_type": "code",
   "execution_count": null,
   "metadata": {},
   "outputs": [],
   "source": []
  },
  {
   "cell_type": "code",
   "execution_count": null,
   "metadata": {},
   "outputs": [],
   "source": []
  },
  {
   "cell_type": "code",
   "execution_count": null,
   "metadata": {},
   "outputs": [],
   "source": []
  }
 ],
 "metadata": {
  "kernelspec": {
   "display_name": "Python 3",
   "language": "python",
   "name": "python3"
  },
  "language_info": {
   "codemirror_mode": {
    "name": "ipython",
    "version": 3
   },
   "file_extension": ".py",
   "mimetype": "text/x-python",
   "name": "python",
   "nbconvert_exporter": "python",
   "pygments_lexer": "ipython3",
   "version": "3.7.4"
  }
 },
 "nbformat": 4,
 "nbformat_minor": 2
}
